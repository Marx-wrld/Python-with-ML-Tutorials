{
 "cells": [
  {
   "cell_type": "code",
   "execution_count": 1,
   "metadata": {
    "scrolled": false
   },
   "outputs": [],
   "source": [
    "from IPython.core.interactiveshell import InteractiveShell\n",
    "InteractiveShell.ast_node_interactivity = \"all\""
   ]
  },
  {
   "cell_type": "code",
   "execution_count": 2,
   "metadata": {},
   "outputs": [
    {
     "data": {
      "text/plain": [
       "[30, 40, 50, 60, 70]"
      ]
     },
     "execution_count": 2,
     "metadata": {},
     "output_type": "execute_result"
    }
   ],
   "source": [
    "# list,Dictionary,Tuple\n",
    "\n",
    "mylist = [20,30,40,50,60,70]\n",
    "mylist[1:]\n"
   ]
  },
  {
   "cell_type": "code",
   "execution_count": 3,
   "metadata": {},
   "outputs": [],
   "source": [
    "x = [1,\"b\",3]\n"
   ]
  },
  {
   "cell_type": "code",
   "execution_count": 4,
   "metadata": {},
   "outputs": [
    {
     "data": {
      "text/plain": [
       "'b'"
      ]
     },
     "execution_count": 4,
     "metadata": {},
     "output_type": "execute_result"
    }
   ],
   "source": [
    "x[1]"
   ]
  },
  {
   "cell_type": "code",
   "execution_count": 5,
   "metadata": {},
   "outputs": [
    {
     "data": {
      "text/plain": [
       "'my number'"
      ]
     },
     "execution_count": 5,
     "metadata": {},
     "output_type": "execute_result"
    },
    {
     "data": {
      "text/plain": [
       "dict_keys(['Ragu', 'you', 3])"
      ]
     },
     "execution_count": 5,
     "metadata": {},
     "output_type": "execute_result"
    },
    {
     "data": {
      "text/plain": [
       "dict_values(['Trainer', 'Participants', 'my number'])"
      ]
     },
     "execution_count": 5,
     "metadata": {},
     "output_type": "execute_result"
    }
   ],
   "source": [
    "dict = {\"Ragu\": \"Trainer\", \"you\": \"Participants\", 3: \"my number\"}\n",
    "dict[3]\n",
    "dict.keys()\n",
    "dict.values()"
   ]
  },
  {
   "cell_type": "code",
   "execution_count": 6,
   "metadata": {},
   "outputs": [
    {
     "data": {
      "text/plain": [
       "'GOOGLE'"
      ]
     },
     "execution_count": 6,
     "metadata": {},
     "output_type": "execute_result"
    }
   ],
   "source": [
    "student = {\"s_1\": [\"IBM\"], \"s_2\": [\"INFY\",\"WIPRO\",\"GOOGLE\"]}\n",
    "student['s_2'][2]"
   ]
  },
  {
   "cell_type": "code",
   "execution_count": 7,
   "metadata": {},
   "outputs": [
    {
     "data": {
      "text/plain": [
       "'WIPRO'"
      ]
     },
     "execution_count": 7,
     "metadata": {},
     "output_type": "execute_result"
    }
   ],
   "source": [
    "student_dict = {\"s_1\":[\"IBM\",\"TCS\"],\"s_2\" :[\"HP\"], \"s_3\":[\"INFOSYS\",\"WIPRO\"]}\n",
    "student_dict['s_3'][1]"
   ]
  },
  {
   "cell_type": "code",
   "execution_count": 8,
   "metadata": {},
   "outputs": [
    {
     "data": {
      "text/plain": [
       "[['IBM', 'TCS'], ['HP'], ['INFOSYS', 'WIPRO']]"
      ]
     },
     "execution_count": 8,
     "metadata": {},
     "output_type": "execute_result"
    }
   ],
   "source": [
    "[val for k,val in student_dict.items()]"
   ]
  },
  {
   "cell_type": "markdown",
   "metadata": {},
   "source": [
    "# This is to test Python"
   ]
  },
  {
   "cell_type": "code",
   "execution_count": 9,
   "metadata": {},
   "outputs": [
    {
     "data": {
      "text/plain": [
       "[1, 2, 3, 4, 5, 7]"
      ]
     },
     "execution_count": 9,
     "metadata": {},
     "output_type": "execute_result"
    }
   ],
   "source": [
    "tup_ex = (1,2,3,1)\n",
    "mylist = [1,2,3,4,5]\n",
    "mylist.append(7)\n",
    "mylist\n"
   ]
  },
  {
   "cell_type": "code",
   "execution_count": 10,
   "metadata": {},
   "outputs": [
    {
     "name": "stdout",
     "output_type": "stream",
     "text": [
      "Requirement already satisfied: pandas in c:\\users\\marx\\anaconda3\\lib\\site-packages (1.0.1)\n",
      "Requirement already satisfied: python-dateutil>=2.6.1 in c:\\users\\marx\\anaconda3\\lib\\site-packages (from pandas) (2.8.1)\n",
      "Requirement already satisfied: pytz>=2017.2 in c:\\users\\marx\\anaconda3\\lib\\site-packages (from pandas) (2019.3)\n",
      "Requirement already satisfied: numpy>=1.13.3 in c:\\users\\marx\\anaconda3\\lib\\site-packages (from pandas) (1.18.1)\n",
      "Requirement already satisfied: six>=1.5 in c:\\users\\marx\\anaconda3\\lib\\site-packages (from python-dateutil>=2.6.1->pandas) (1.14.0)\n"
     ]
    }
   ],
   "source": [
    "!pip install pandas"
   ]
  },
  {
   "cell_type": "code",
   "execution_count": 11,
   "metadata": {},
   "outputs": [],
   "source": [
    "from pandas import read_csv"
   ]
  },
  {
   "cell_type": "code",
   "execution_count": 12,
   "metadata": {},
   "outputs": [],
   "source": [
    "# read the data \n",
    "import pandas as pd \n",
    "# import numpy as np\n",
    "df = pd.read_csv(\"Uber Drives 2016.csv\")"
   ]
  },
  {
   "cell_type": "code",
   "execution_count": 13,
   "metadata": {
    "scrolled": true
   },
   "outputs": [],
   "source": [
    "#df\n",
    "#df.describe()\n",
    "#df[\"START*\"].value_counts().head(gives you the top five locations)\n",
    "#df.dtypes(forms each columns datatype)\n",
    "#df.head(going to give you the first five lines)\n",
    "#df.head(n=10)\n",
    "#df.shape(how many rows and how many columns are there)\n",
    "#df.tail(gives the last five rows(NaN-not any number))"
   ]
  },
  {
   "cell_type": "markdown",
   "metadata": {},
   "source": [
    "# Changing data types"
   ]
  },
  {
   "cell_type": "code",
   "execution_count": 14,
   "metadata": {},
   "outputs": [],
   "source": [
    "tenp = pd.DataFrame({\"A\": [\"1\",\"2\",\"3\"],\"B\": [11,12,13],\"C\": [\"12-06-2012\",\"13-06-2015\",\"15-06-2017\"]})"
   ]
  },
  {
   "cell_type": "code",
   "execution_count": 15,
   "metadata": {},
   "outputs": [],
   "source": [
    "#tenp.dtypes\n",
    "#tenp[\"A\"] = pd.to_numeric(tenp[\"A\"])\n",
    "#tenp[\"C\"] = pd.to_datetime(tenp[\"C\"])\n",
    "#pd.to_datetime([\"2016-sep-11\", \"abc\"], errors = \"coerce\")"
   ]
  },
  {
   "cell_type": "markdown",
   "metadata": {},
   "source": [
    "# Select"
   ]
  },
  {
   "cell_type": "code",
   "execution_count": 16,
   "metadata": {},
   "outputs": [
    {
     "data": {
      "text/html": [
       "<div>\n",
       "<style scoped>\n",
       "    .dataframe tbody tr th:only-of-type {\n",
       "        vertical-align: middle;\n",
       "    }\n",
       "\n",
       "    .dataframe tbody tr th {\n",
       "        vertical-align: top;\n",
       "    }\n",
       "\n",
       "    .dataframe thead th {\n",
       "        text-align: right;\n",
       "    }\n",
       "</style>\n",
       "<table border=\"1\" class=\"dataframe\">\n",
       "  <thead>\n",
       "    <tr style=\"text-align: right;\">\n",
       "      <th></th>\n",
       "      <th>START_DATE*</th>\n",
       "      <th>END_DATE*</th>\n",
       "    </tr>\n",
       "  </thead>\n",
       "  <tbody>\n",
       "    <tr>\n",
       "      <th>0</th>\n",
       "      <td>1/7/2016/ 2:11 PM</td>\n",
       "      <td>1/7/2016/ 4:11 PM</td>\n",
       "    </tr>\n",
       "    <tr>\n",
       "      <th>1</th>\n",
       "      <td>6/4/2016/1:15 PM</td>\n",
       "      <td>6/4/2016/4:15 PM</td>\n",
       "    </tr>\n",
       "    <tr>\n",
       "      <th>2</th>\n",
       "      <td>12/8/2016/ 3:11 PM</td>\n",
       "      <td>12/8/2016/ 5:11 PM</td>\n",
       "    </tr>\n",
       "    <tr>\n",
       "      <th>3</th>\n",
       "      <td>3/9/2016/ 6:17 PM</td>\n",
       "      <td>3/9/2016/ 8:17 PM</td>\n",
       "    </tr>\n",
       "    <tr>\n",
       "      <th>4</th>\n",
       "      <td>4/8/2016/ 12:01 PM</td>\n",
       "      <td>4/8/2016/ 6:01 PM</td>\n",
       "    </tr>\n",
       "  </tbody>\n",
       "</table>\n",
       "</div>"
      ],
      "text/plain": [
       "          START_DATE*           END_DATE*\n",
       "0   1/7/2016/ 2:11 PM   1/7/2016/ 4:11 PM\n",
       "1    6/4/2016/1:15 PM    6/4/2016/4:15 PM\n",
       "2  12/8/2016/ 3:11 PM  12/8/2016/ 5:11 PM\n",
       "3   3/9/2016/ 6:17 PM   3/9/2016/ 8:17 PM\n",
       "4  4/8/2016/ 12:01 PM   4/8/2016/ 6:01 PM"
      ]
     },
     "execution_count": 16,
     "metadata": {},
     "output_type": "execute_result"
    }
   ],
   "source": [
    "# Positional indexing (iloc)\n",
    "df.iloc[0:5,0:2]\n"
   ]
  },
  {
   "cell_type": "code",
   "execution_count": 17,
   "metadata": {},
   "outputs": [
    {
     "data": {
      "text/html": [
       "<div>\n",
       "<style scoped>\n",
       "    .dataframe tbody tr th:only-of-type {\n",
       "        vertical-align: middle;\n",
       "    }\n",
       "\n",
       "    .dataframe tbody tr th {\n",
       "        vertical-align: top;\n",
       "    }\n",
       "\n",
       "    .dataframe thead th {\n",
       "        text-align: right;\n",
       "    }\n",
       "</style>\n",
       "<table border=\"1\" class=\"dataframe\">\n",
       "  <thead>\n",
       "    <tr style=\"text-align: right;\">\n",
       "      <th></th>\n",
       "      <th>START_DATE*</th>\n",
       "      <th>END_DATE*</th>\n",
       "      <th>CATEGORY*</th>\n",
       "      <th>START*</th>\n",
       "    </tr>\n",
       "  </thead>\n",
       "  <tbody>\n",
       "    <tr>\n",
       "      <th>0</th>\n",
       "      <td>1/7/2016/ 2:11 PM</td>\n",
       "      <td>1/7/2016/ 4:11 PM</td>\n",
       "      <td>Business</td>\n",
       "      <td>Detroit</td>\n",
       "    </tr>\n",
       "    <tr>\n",
       "      <th>1</th>\n",
       "      <td>6/4/2016/1:15 PM</td>\n",
       "      <td>6/4/2016/4:15 PM</td>\n",
       "      <td>Business</td>\n",
       "      <td>Fort Perce</td>\n",
       "    </tr>\n",
       "    <tr>\n",
       "      <th>2</th>\n",
       "      <td>12/8/2016/ 3:11 PM</td>\n",
       "      <td>12/8/2016/ 5:11 PM</td>\n",
       "      <td>Business</td>\n",
       "      <td>Jamaica</td>\n",
       "    </tr>\n",
       "    <tr>\n",
       "      <th>3</th>\n",
       "      <td>3/9/2016/ 6:17 PM</td>\n",
       "      <td>3/9/2016/ 8:17 PM</td>\n",
       "      <td>Business</td>\n",
       "      <td>Fort Perce</td>\n",
       "    </tr>\n",
       "    <tr>\n",
       "      <th>4</th>\n",
       "      <td>4/8/2016/ 12:01 PM</td>\n",
       "      <td>4/8/2016/ 6:01 PM</td>\n",
       "      <td>Business</td>\n",
       "      <td>Fort Perce</td>\n",
       "    </tr>\n",
       "    <tr>\n",
       "      <th>...</th>\n",
       "      <td>...</td>\n",
       "      <td>...</td>\n",
       "      <td>...</td>\n",
       "      <td>...</td>\n",
       "    </tr>\n",
       "    <tr>\n",
       "      <th>94</th>\n",
       "      <td>18/9/2016/ 2:27 PM</td>\n",
       "      <td>18/9/2016/ 2:27 PM</td>\n",
       "      <td>Business</td>\n",
       "      <td>Fort Perce</td>\n",
       "    </tr>\n",
       "    <tr>\n",
       "      <th>95</th>\n",
       "      <td>17/4/2016/ 6:29 PM</td>\n",
       "      <td>17/4/2016/ 6:29 PM</td>\n",
       "      <td>Business</td>\n",
       "      <td>San diego</td>\n",
       "    </tr>\n",
       "    <tr>\n",
       "      <th>96</th>\n",
       "      <td>19/2/2016/ 8:41 AM</td>\n",
       "      <td>19/2/2016/ 8:41 AM</td>\n",
       "      <td>Business</td>\n",
       "      <td>Fort Perce</td>\n",
       "    </tr>\n",
       "    <tr>\n",
       "      <th>97</th>\n",
       "      <td>4/1/2016/ 11:52 AM</td>\n",
       "      <td>4/1/2016/ 11:52 AM</td>\n",
       "      <td>Business</td>\n",
       "      <td>Winston-Salem</td>\n",
       "    </tr>\n",
       "    <tr>\n",
       "      <th>98</th>\n",
       "      <td>18/9/2016/ 12.30 PM</td>\n",
       "      <td>18/9/2016/ 12.30 PM</td>\n",
       "      <td>Business</td>\n",
       "      <td>New York</td>\n",
       "    </tr>\n",
       "  </tbody>\n",
       "</table>\n",
       "<p>99 rows × 4 columns</p>\n",
       "</div>"
      ],
      "text/plain": [
       "            START_DATE*            END_DATE* CATEGORY*         START*\n",
       "0     1/7/2016/ 2:11 PM    1/7/2016/ 4:11 PM  Business        Detroit\n",
       "1      6/4/2016/1:15 PM     6/4/2016/4:15 PM  Business     Fort Perce\n",
       "2    12/8/2016/ 3:11 PM   12/8/2016/ 5:11 PM  Business        Jamaica\n",
       "3     3/9/2016/ 6:17 PM    3/9/2016/ 8:17 PM  Business     Fort Perce\n",
       "4    4/8/2016/ 12:01 PM    4/8/2016/ 6:01 PM  Business     Fort Perce\n",
       "..                  ...                  ...       ...            ...\n",
       "94   18/9/2016/ 2:27 PM   18/9/2016/ 2:27 PM  Business     Fort Perce\n",
       "95   17/4/2016/ 6:29 PM   17/4/2016/ 6:29 PM  Business      San diego\n",
       "96   19/2/2016/ 8:41 AM   19/2/2016/ 8:41 AM  Business     Fort Perce\n",
       "97   4/1/2016/ 11:52 AM   4/1/2016/ 11:52 AM  Business  Winston-Salem\n",
       "98  18/9/2016/ 12.30 PM  18/9/2016/ 12.30 PM  Business       New York\n",
       "\n",
       "[99 rows x 4 columns]"
      ]
     },
     "execution_count": 17,
     "metadata": {},
     "output_type": "execute_result"
    }
   ],
   "source": [
    "df.iloc[:,0:4]\n"
   ]
  },
  {
   "cell_type": "code",
   "execution_count": 18,
   "metadata": {},
   "outputs": [
    {
     "data": {
      "text/html": [
       "<div>\n",
       "<style scoped>\n",
       "    .dataframe tbody tr th:only-of-type {\n",
       "        vertical-align: middle;\n",
       "    }\n",
       "\n",
       "    .dataframe tbody tr th {\n",
       "        vertical-align: top;\n",
       "    }\n",
       "\n",
       "    .dataframe thead th {\n",
       "        text-align: right;\n",
       "    }\n",
       "</style>\n",
       "<table border=\"1\" class=\"dataframe\">\n",
       "  <thead>\n",
       "    <tr style=\"text-align: right;\">\n",
       "      <th></th>\n",
       "      <th>START_DATE*</th>\n",
       "      <th>END_DATE*</th>\n",
       "      <th>CATEGORY*</th>\n",
       "      <th>START*</th>\n",
       "      <th>STOP*</th>\n",
       "      <th>MILES*</th>\n",
       "    </tr>\n",
       "  </thead>\n",
       "  <tbody>\n",
       "    <tr>\n",
       "      <th>0</th>\n",
       "      <td>1/7/2016/ 2:11 PM</td>\n",
       "      <td>1/7/2016/ 4:11 PM</td>\n",
       "      <td>Business</td>\n",
       "      <td>Detroit</td>\n",
       "      <td>Fort Perce</td>\n",
       "      <td>5.1</td>\n",
       "    </tr>\n",
       "    <tr>\n",
       "      <th>1</th>\n",
       "      <td>6/4/2016/1:15 PM</td>\n",
       "      <td>6/4/2016/4:15 PM</td>\n",
       "      <td>Business</td>\n",
       "      <td>Fort Perce</td>\n",
       "      <td>West Palm</td>\n",
       "      <td>5.0</td>\n",
       "    </tr>\n",
       "    <tr>\n",
       "      <th>2</th>\n",
       "      <td>12/8/2016/ 3:11 PM</td>\n",
       "      <td>12/8/2016/ 5:11 PM</td>\n",
       "      <td>Business</td>\n",
       "      <td>Jamaica</td>\n",
       "      <td>New York</td>\n",
       "      <td>4.8</td>\n",
       "    </tr>\n",
       "    <tr>\n",
       "      <th>3</th>\n",
       "      <td>3/9/2016/ 6:17 PM</td>\n",
       "      <td>3/9/2016/ 8:17 PM</td>\n",
       "      <td>Business</td>\n",
       "      <td>Fort Perce</td>\n",
       "      <td>Fort Perce</td>\n",
       "      <td>4.7</td>\n",
       "    </tr>\n",
       "    <tr>\n",
       "      <th>4</th>\n",
       "      <td>4/8/2016/ 12:01 PM</td>\n",
       "      <td>4/8/2016/ 6:01 PM</td>\n",
       "      <td>Business</td>\n",
       "      <td>Fort Perce</td>\n",
       "      <td>Fort Perce</td>\n",
       "      <td>63.7</td>\n",
       "    </tr>\n",
       "    <tr>\n",
       "      <th>...</th>\n",
       "      <td>...</td>\n",
       "      <td>...</td>\n",
       "      <td>...</td>\n",
       "      <td>...</td>\n",
       "      <td>...</td>\n",
       "      <td>...</td>\n",
       "    </tr>\n",
       "    <tr>\n",
       "      <th>94</th>\n",
       "      <td>18/9/2016/ 2:27 PM</td>\n",
       "      <td>18/9/2016/ 2:27 PM</td>\n",
       "      <td>Business</td>\n",
       "      <td>Fort Perce</td>\n",
       "      <td>Fort Perce</td>\n",
       "      <td>31.7</td>\n",
       "    </tr>\n",
       "    <tr>\n",
       "      <th>95</th>\n",
       "      <td>17/4/2016/ 6:29 PM</td>\n",
       "      <td>17/4/2016/ 6:29 PM</td>\n",
       "      <td>Business</td>\n",
       "      <td>San diego</td>\n",
       "      <td>Providence</td>\n",
       "      <td>5.7</td>\n",
       "    </tr>\n",
       "    <tr>\n",
       "      <th>96</th>\n",
       "      <td>19/2/2016/ 8:41 AM</td>\n",
       "      <td>19/2/2016/ 8:41 AM</td>\n",
       "      <td>Business</td>\n",
       "      <td>Fort Perce</td>\n",
       "      <td>Fort Perce</td>\n",
       "      <td>7.2</td>\n",
       "    </tr>\n",
       "    <tr>\n",
       "      <th>97</th>\n",
       "      <td>4/1/2016/ 11:52 AM</td>\n",
       "      <td>4/1/2016/ 11:52 AM</td>\n",
       "      <td>Business</td>\n",
       "      <td>Winston-Salem</td>\n",
       "      <td>Fort Perce</td>\n",
       "      <td>8.1</td>\n",
       "    </tr>\n",
       "    <tr>\n",
       "      <th>98</th>\n",
       "      <td>18/9/2016/ 12.30 PM</td>\n",
       "      <td>18/9/2016/ 12.30 PM</td>\n",
       "      <td>Business</td>\n",
       "      <td>New York</td>\n",
       "      <td>Arlington</td>\n",
       "      <td>6.9</td>\n",
       "    </tr>\n",
       "  </tbody>\n",
       "</table>\n",
       "<p>99 rows × 6 columns</p>\n",
       "</div>"
      ],
      "text/plain": [
       "            START_DATE*            END_DATE* CATEGORY*         START*  \\\n",
       "0     1/7/2016/ 2:11 PM    1/7/2016/ 4:11 PM  Business        Detroit   \n",
       "1      6/4/2016/1:15 PM     6/4/2016/4:15 PM  Business     Fort Perce   \n",
       "2    12/8/2016/ 3:11 PM   12/8/2016/ 5:11 PM  Business        Jamaica   \n",
       "3     3/9/2016/ 6:17 PM    3/9/2016/ 8:17 PM  Business     Fort Perce   \n",
       "4    4/8/2016/ 12:01 PM    4/8/2016/ 6:01 PM  Business     Fort Perce   \n",
       "..                  ...                  ...       ...            ...   \n",
       "94   18/9/2016/ 2:27 PM   18/9/2016/ 2:27 PM  Business     Fort Perce   \n",
       "95   17/4/2016/ 6:29 PM   17/4/2016/ 6:29 PM  Business      San diego   \n",
       "96   19/2/2016/ 8:41 AM   19/2/2016/ 8:41 AM  Business     Fort Perce   \n",
       "97   4/1/2016/ 11:52 AM   4/1/2016/ 11:52 AM  Business  Winston-Salem   \n",
       "98  18/9/2016/ 12.30 PM  18/9/2016/ 12.30 PM  Business       New York   \n",
       "\n",
       "         STOP*  MILES*  \n",
       "0   Fort Perce     5.1  \n",
       "1    West Palm     5.0  \n",
       "2     New York     4.8  \n",
       "3   Fort Perce     4.7  \n",
       "4   Fort Perce    63.7  \n",
       "..         ...     ...  \n",
       "94  Fort Perce    31.7  \n",
       "95  Providence     5.7  \n",
       "96  Fort Perce     7.2  \n",
       "97  Fort Perce     8.1  \n",
       "98   Arlington     6.9  \n",
       "\n",
       "[99 rows x 6 columns]"
      ]
     },
     "execution_count": 18,
     "metadata": {},
     "output_type": "execute_result"
    }
   ],
   "source": [
    "df.iloc[:,: -1]\n"
   ]
  },
  {
   "cell_type": "code",
   "execution_count": 19,
   "metadata": {},
   "outputs": [
    {
     "name": "stdout",
     "output_type": "stream",
     "text": [
      "(99, 7)\n"
     ]
    },
    {
     "data": {
      "text/plain": [
       "(99, 6)"
      ]
     },
     "execution_count": 19,
     "metadata": {},
     "output_type": "execute_result"
    }
   ],
   "source": [
    "ragu = df.iloc[:,: -1]\n",
    "print(df.shape)\n",
    "ragu.shape"
   ]
  },
  {
   "cell_type": "code",
   "execution_count": 20,
   "metadata": {
    "scrolled": true
   },
   "outputs": [
    {
     "data": {
      "text/plain": [
       "pandas.core.frame.DataFrame"
      ]
     },
     "execution_count": 20,
     "metadata": {},
     "output_type": "execute_result"
    },
    {
     "data": {
      "text/html": [
       "<div>\n",
       "<style scoped>\n",
       "    .dataframe tbody tr th:only-of-type {\n",
       "        vertical-align: middle;\n",
       "    }\n",
       "\n",
       "    .dataframe tbody tr th {\n",
       "        vertical-align: top;\n",
       "    }\n",
       "\n",
       "    .dataframe thead th {\n",
       "        text-align: right;\n",
       "    }\n",
       "</style>\n",
       "<table border=\"1\" class=\"dataframe\">\n",
       "  <thead>\n",
       "    <tr style=\"text-align: right;\">\n",
       "      <th></th>\n",
       "      <th>START*</th>\n",
       "    </tr>\n",
       "  </thead>\n",
       "  <tbody>\n",
       "    <tr>\n",
       "      <th>0</th>\n",
       "      <td>Detroit</td>\n",
       "    </tr>\n",
       "    <tr>\n",
       "      <th>1</th>\n",
       "      <td>Fort Perce</td>\n",
       "    </tr>\n",
       "    <tr>\n",
       "      <th>2</th>\n",
       "      <td>Jamaica</td>\n",
       "    </tr>\n",
       "    <tr>\n",
       "      <th>3</th>\n",
       "      <td>Fort Perce</td>\n",
       "    </tr>\n",
       "    <tr>\n",
       "      <th>4</th>\n",
       "      <td>Fort Perce</td>\n",
       "    </tr>\n",
       "    <tr>\n",
       "      <th>...</th>\n",
       "      <td>...</td>\n",
       "    </tr>\n",
       "    <tr>\n",
       "      <th>94</th>\n",
       "      <td>Fort Perce</td>\n",
       "    </tr>\n",
       "    <tr>\n",
       "      <th>95</th>\n",
       "      <td>San diego</td>\n",
       "    </tr>\n",
       "    <tr>\n",
       "      <th>96</th>\n",
       "      <td>Fort Perce</td>\n",
       "    </tr>\n",
       "    <tr>\n",
       "      <th>97</th>\n",
       "      <td>Winston-Salem</td>\n",
       "    </tr>\n",
       "    <tr>\n",
       "      <th>98</th>\n",
       "      <td>New York</td>\n",
       "    </tr>\n",
       "  </tbody>\n",
       "</table>\n",
       "<p>99 rows × 1 columns</p>\n",
       "</div>"
      ],
      "text/plain": [
       "           START*\n",
       "0         Detroit\n",
       "1      Fort Perce\n",
       "2         Jamaica\n",
       "3      Fort Perce\n",
       "4      Fort Perce\n",
       "..            ...\n",
       "94     Fort Perce\n",
       "95      San diego\n",
       "96     Fort Perce\n",
       "97  Winston-Salem\n",
       "98       New York\n",
       "\n",
       "[99 rows x 1 columns]"
      ]
     },
     "execution_count": 20,
     "metadata": {},
     "output_type": "execute_result"
    }
   ],
   "source": [
    "# Label based indexing9(loc)\n",
    "#df.loc[:,[\"START*\", \"STOP*\"]]\n",
    "#df.loc[:,[\"START*\"]]\n",
    "abc = df.loc[:,[\"START*\"]]#if you remove the column surrouning the start*  or add the round brackets it becomes a series(a single column data but using the bracket it becomes a dataframe)\n",
    "type(abc)\n",
    "abc"
   ]
  },
  {
   "cell_type": "markdown",
   "metadata": {},
   "source": [
    "# Filtering"
   ]
  },
  {
   "cell_type": "code",
   "execution_count": 21,
   "metadata": {},
   "outputs": [
    {
     "data": {
      "text/html": [
       "<div>\n",
       "<style scoped>\n",
       "    .dataframe tbody tr th:only-of-type {\n",
       "        vertical-align: middle;\n",
       "    }\n",
       "\n",
       "    .dataframe tbody tr th {\n",
       "        vertical-align: top;\n",
       "    }\n",
       "\n",
       "    .dataframe thead th {\n",
       "        text-align: right;\n",
       "    }\n",
       "</style>\n",
       "<table border=\"1\" class=\"dataframe\">\n",
       "  <thead>\n",
       "    <tr style=\"text-align: right;\">\n",
       "      <th></th>\n",
       "      <th>START_DATE*</th>\n",
       "      <th>MILES*</th>\n",
       "    </tr>\n",
       "  </thead>\n",
       "  <tbody>\n",
       "    <tr>\n",
       "      <th>0</th>\n",
       "      <td>1/7/2016/ 2:11 PM</td>\n",
       "      <td>5.1</td>\n",
       "    </tr>\n",
       "    <tr>\n",
       "      <th>1</th>\n",
       "      <td>6/4/2016/1:15 PM</td>\n",
       "      <td>5.0</td>\n",
       "    </tr>\n",
       "    <tr>\n",
       "      <th>2</th>\n",
       "      <td>12/8/2016/ 3:11 PM</td>\n",
       "      <td>4.8</td>\n",
       "    </tr>\n",
       "    <tr>\n",
       "      <th>3</th>\n",
       "      <td>3/9/2016/ 6:17 PM</td>\n",
       "      <td>4.7</td>\n",
       "    </tr>\n",
       "    <tr>\n",
       "      <th>4</th>\n",
       "      <td>4/8/2016/ 12:01 PM</td>\n",
       "      <td>63.7</td>\n",
       "    </tr>\n",
       "    <tr>\n",
       "      <th>5</th>\n",
       "      <td>28/2/2016/ 7:16 PM</td>\n",
       "      <td>7.3</td>\n",
       "    </tr>\n",
       "  </tbody>\n",
       "</table>\n",
       "</div>"
      ],
      "text/plain": [
       "          START_DATE*  MILES*\n",
       "0   1/7/2016/ 2:11 PM     5.1\n",
       "1    6/4/2016/1:15 PM     5.0\n",
       "2  12/8/2016/ 3:11 PM     4.8\n",
       "3   3/9/2016/ 6:17 PM     4.7\n",
       "4  4/8/2016/ 12:01 PM    63.7\n",
       "5  28/2/2016/ 7:16 PM     7.3"
      ]
     },
     "execution_count": 21,
     "metadata": {},
     "output_type": "execute_result"
    }
   ],
   "source": [
    "df.loc[0:5, [\"START_DATE*\", \"MILES*\"]]"
   ]
  },
  {
   "cell_type": "code",
   "execution_count": 22,
   "metadata": {
    "scrolled": false
   },
   "outputs": [
    {
     "data": {
      "text/html": [
       "<div>\n",
       "<style scoped>\n",
       "    .dataframe tbody tr th:only-of-type {\n",
       "        vertical-align: middle;\n",
       "    }\n",
       "\n",
       "    .dataframe tbody tr th {\n",
       "        vertical-align: top;\n",
       "    }\n",
       "\n",
       "    .dataframe thead th {\n",
       "        text-align: right;\n",
       "    }\n",
       "</style>\n",
       "<table border=\"1\" class=\"dataframe\">\n",
       "  <thead>\n",
       "    <tr style=\"text-align: right;\">\n",
       "      <th></th>\n",
       "      <th>START_DATE*</th>\n",
       "      <th>END_DATE*</th>\n",
       "      <th>CATEGORY*</th>\n",
       "      <th>START*</th>\n",
       "      <th>STOP*</th>\n",
       "      <th>MILES*</th>\n",
       "      <th>PURPOSES*</th>\n",
       "    </tr>\n",
       "  </thead>\n",
       "  <tbody>\n",
       "    <tr>\n",
       "      <th>4</th>\n",
       "      <td>4/8/2016/ 12:01 PM</td>\n",
       "      <td>4/8/2016/ 6:01 PM</td>\n",
       "      <td>Business</td>\n",
       "      <td>Fort Perce</td>\n",
       "      <td>Fort Perce</td>\n",
       "      <td>63.7</td>\n",
       "      <td>Meal/Enterprise</td>\n",
       "    </tr>\n",
       "    <tr>\n",
       "      <th>11</th>\n",
       "      <td>29/1/2016/ 5:14 PM</td>\n",
       "      <td>29/1/2016/ 5:14 PM</td>\n",
       "      <td>Business</td>\n",
       "      <td>Cary</td>\n",
       "      <td>Durham</td>\n",
       "      <td>21.3</td>\n",
       "      <td>Meal/Enterprise</td>\n",
       "    </tr>\n",
       "    <tr>\n",
       "      <th>12</th>\n",
       "      <td>18/9/2016/ 2:27 PM</td>\n",
       "      <td>18/9/2016/ 2:27 PM</td>\n",
       "      <td>Business</td>\n",
       "      <td>Durham</td>\n",
       "      <td>Cary</td>\n",
       "      <td>23.6</td>\n",
       "      <td>Meal/Enterprise</td>\n",
       "    </tr>\n",
       "    <tr>\n",
       "      <th>13</th>\n",
       "      <td>17/4/2016/ 6:29 PM</td>\n",
       "      <td>17/4/2016/ 6:29 PM</td>\n",
       "      <td>Business</td>\n",
       "      <td>Fort Perce</td>\n",
       "      <td>Fort Perce</td>\n",
       "      <td>53.2</td>\n",
       "      <td>Customer visit</td>\n",
       "    </tr>\n",
       "    <tr>\n",
       "      <th>19</th>\n",
       "      <td>4/10/2016/  1:09 PM</td>\n",
       "      <td>4/10/2016/  1:09 PM</td>\n",
       "      <td>Business</td>\n",
       "      <td>Newport beach</td>\n",
       "      <td>Fort Perce</td>\n",
       "      <td>35.3</td>\n",
       "      <td>Meal/Enterprise</td>\n",
       "    </tr>\n",
       "    <tr>\n",
       "      <th>...</th>\n",
       "      <td>...</td>\n",
       "      <td>...</td>\n",
       "      <td>...</td>\n",
       "      <td>...</td>\n",
       "      <td>...</td>\n",
       "      <td>...</td>\n",
       "      <td>...</td>\n",
       "    </tr>\n",
       "    <tr>\n",
       "      <th>90</th>\n",
       "      <td>16/2/2016/ 8:10 PM</td>\n",
       "      <td>16/2/2016/ 8:10 PM</td>\n",
       "      <td>Business</td>\n",
       "      <td>Fort Perce</td>\n",
       "      <td>Stockton</td>\n",
       "      <td>38.6</td>\n",
       "      <td>Meeting</td>\n",
       "    </tr>\n",
       "    <tr>\n",
       "      <th>91</th>\n",
       "      <td>11/12/2016/ 9:56 AM</td>\n",
       "      <td>11/12/2016/ 9:56 AM</td>\n",
       "      <td>Business</td>\n",
       "      <td>San marino</td>\n",
       "      <td>Fort Perce</td>\n",
       "      <td>62.9</td>\n",
       "      <td>Meeting</td>\n",
       "    </tr>\n",
       "    <tr>\n",
       "      <th>92</th>\n",
       "      <td>17/10/2016/ 4:10 PM</td>\n",
       "      <td>17/10/2016/ 4:10 PM</td>\n",
       "      <td>Business</td>\n",
       "      <td>Fort Perce</td>\n",
       "      <td>Louisville</td>\n",
       "      <td>56.3</td>\n",
       "      <td>Meeting</td>\n",
       "    </tr>\n",
       "    <tr>\n",
       "      <th>93</th>\n",
       "      <td>29/1/2016/ 5:14 PM</td>\n",
       "      <td>29/1/2016/ 5:14 PM</td>\n",
       "      <td>Business</td>\n",
       "      <td>San franscisco</td>\n",
       "      <td>Fort Perce</td>\n",
       "      <td>33.6</td>\n",
       "      <td>Customer visit</td>\n",
       "    </tr>\n",
       "    <tr>\n",
       "      <th>94</th>\n",
       "      <td>18/9/2016/ 2:27 PM</td>\n",
       "      <td>18/9/2016/ 2:27 PM</td>\n",
       "      <td>Business</td>\n",
       "      <td>Fort Perce</td>\n",
       "      <td>Fort Perce</td>\n",
       "      <td>31.7</td>\n",
       "      <td>Customer visit</td>\n",
       "    </tr>\n",
       "  </tbody>\n",
       "</table>\n",
       "<p>65 rows × 7 columns</p>\n",
       "</div>"
      ],
      "text/plain": [
       "            START_DATE*            END_DATE* CATEGORY*          START*  \\\n",
       "4    4/8/2016/ 12:01 PM    4/8/2016/ 6:01 PM  Business      Fort Perce   \n",
       "11   29/1/2016/ 5:14 PM   29/1/2016/ 5:14 PM  Business            Cary   \n",
       "12   18/9/2016/ 2:27 PM   18/9/2016/ 2:27 PM  Business          Durham   \n",
       "13   17/4/2016/ 6:29 PM   17/4/2016/ 6:29 PM  Business      Fort Perce   \n",
       "19  4/10/2016/  1:09 PM  4/10/2016/  1:09 PM  Business   Newport beach   \n",
       "..                  ...                  ...       ...             ...   \n",
       "90   16/2/2016/ 8:10 PM   16/2/2016/ 8:10 PM  Business      Fort Perce   \n",
       "91  11/12/2016/ 9:56 AM  11/12/2016/ 9:56 AM  Business      San marino   \n",
       "92  17/10/2016/ 4:10 PM  17/10/2016/ 4:10 PM  Business      Fort Perce   \n",
       "93   29/1/2016/ 5:14 PM   29/1/2016/ 5:14 PM  Business  San franscisco   \n",
       "94   18/9/2016/ 2:27 PM   18/9/2016/ 2:27 PM  Business      Fort Perce   \n",
       "\n",
       "         STOP*  MILES*        PURPOSES*  \n",
       "4   Fort Perce    63.7  Meal/Enterprise  \n",
       "11      Durham    21.3  Meal/Enterprise  \n",
       "12        Cary    23.6  Meal/Enterprise  \n",
       "13  Fort Perce    53.2   Customer visit  \n",
       "19  Fort Perce    35.3  Meal/Enterprise  \n",
       "..         ...     ...              ...  \n",
       "90    Stockton    38.6          Meeting  \n",
       "91  Fort Perce    62.9          Meeting  \n",
       "92  Louisville    56.3          Meeting  \n",
       "93  Fort Perce    33.6   Customer visit  \n",
       "94  Fort Perce    31.7   Customer visit  \n",
       "\n",
       "[65 rows x 7 columns]"
      ]
     },
     "execution_count": 22,
     "metadata": {},
     "output_type": "execute_result"
    }
   ],
   "source": [
    "df[df[\"MILES*\"] > 10]"
   ]
  },
  {
   "cell_type": "code",
   "execution_count": 23,
   "metadata": {},
   "outputs": [
    {
     "data": {
      "text/html": [
       "<div>\n",
       "<style scoped>\n",
       "    .dataframe tbody tr th:only-of-type {\n",
       "        vertical-align: middle;\n",
       "    }\n",
       "\n",
       "    .dataframe tbody tr th {\n",
       "        vertical-align: top;\n",
       "    }\n",
       "\n",
       "    .dataframe thead th {\n",
       "        text-align: right;\n",
       "    }\n",
       "</style>\n",
       "<table border=\"1\" class=\"dataframe\">\n",
       "  <thead>\n",
       "    <tr style=\"text-align: right;\">\n",
       "      <th></th>\n",
       "      <th>START_DATE*</th>\n",
       "      <th>END_DATE*</th>\n",
       "      <th>CATEGORY*</th>\n",
       "      <th>START*</th>\n",
       "      <th>STOP*</th>\n",
       "      <th>MILES*</th>\n",
       "      <th>PURPOSES*</th>\n",
       "    </tr>\n",
       "  </thead>\n",
       "  <tbody>\n",
       "    <tr>\n",
       "      <th>4</th>\n",
       "      <td>4/8/2016/ 12:01 PM</td>\n",
       "      <td>4/8/2016/ 6:01 PM</td>\n",
       "      <td>Business</td>\n",
       "      <td>Fort Perce</td>\n",
       "      <td>Fort Perce</td>\n",
       "      <td>63.7</td>\n",
       "      <td>Meal/Enterprise</td>\n",
       "    </tr>\n",
       "    <tr>\n",
       "      <th>11</th>\n",
       "      <td>29/1/2016/ 5:14 PM</td>\n",
       "      <td>29/1/2016/ 5:14 PM</td>\n",
       "      <td>Business</td>\n",
       "      <td>Cary</td>\n",
       "      <td>Durham</td>\n",
       "      <td>21.3</td>\n",
       "      <td>Meal/Enterprise</td>\n",
       "    </tr>\n",
       "    <tr>\n",
       "      <th>12</th>\n",
       "      <td>18/9/2016/ 2:27 PM</td>\n",
       "      <td>18/9/2016/ 2:27 PM</td>\n",
       "      <td>Business</td>\n",
       "      <td>Durham</td>\n",
       "      <td>Cary</td>\n",
       "      <td>23.6</td>\n",
       "      <td>Meal/Enterprise</td>\n",
       "    </tr>\n",
       "    <tr>\n",
       "      <th>13</th>\n",
       "      <td>17/4/2016/ 6:29 PM</td>\n",
       "      <td>17/4/2016/ 6:29 PM</td>\n",
       "      <td>Business</td>\n",
       "      <td>Fort Perce</td>\n",
       "      <td>Fort Perce</td>\n",
       "      <td>53.2</td>\n",
       "      <td>Customer visit</td>\n",
       "    </tr>\n",
       "    <tr>\n",
       "      <th>19</th>\n",
       "      <td>4/10/2016/  1:09 PM</td>\n",
       "      <td>4/10/2016/  1:09 PM</td>\n",
       "      <td>Business</td>\n",
       "      <td>Newport beach</td>\n",
       "      <td>Fort Perce</td>\n",
       "      <td>35.3</td>\n",
       "      <td>Meal/Enterprise</td>\n",
       "    </tr>\n",
       "    <tr>\n",
       "      <th>...</th>\n",
       "      <td>...</td>\n",
       "      <td>...</td>\n",
       "      <td>...</td>\n",
       "      <td>...</td>\n",
       "      <td>...</td>\n",
       "      <td>...</td>\n",
       "      <td>...</td>\n",
       "    </tr>\n",
       "    <tr>\n",
       "      <th>90</th>\n",
       "      <td>16/2/2016/ 8:10 PM</td>\n",
       "      <td>16/2/2016/ 8:10 PM</td>\n",
       "      <td>Business</td>\n",
       "      <td>Fort Perce</td>\n",
       "      <td>Stockton</td>\n",
       "      <td>38.6</td>\n",
       "      <td>Meeting</td>\n",
       "    </tr>\n",
       "    <tr>\n",
       "      <th>91</th>\n",
       "      <td>11/12/2016/ 9:56 AM</td>\n",
       "      <td>11/12/2016/ 9:56 AM</td>\n",
       "      <td>Business</td>\n",
       "      <td>San marino</td>\n",
       "      <td>Fort Perce</td>\n",
       "      <td>62.9</td>\n",
       "      <td>Meeting</td>\n",
       "    </tr>\n",
       "    <tr>\n",
       "      <th>92</th>\n",
       "      <td>17/10/2016/ 4:10 PM</td>\n",
       "      <td>17/10/2016/ 4:10 PM</td>\n",
       "      <td>Business</td>\n",
       "      <td>Fort Perce</td>\n",
       "      <td>Louisville</td>\n",
       "      <td>56.3</td>\n",
       "      <td>Meeting</td>\n",
       "    </tr>\n",
       "    <tr>\n",
       "      <th>93</th>\n",
       "      <td>29/1/2016/ 5:14 PM</td>\n",
       "      <td>29/1/2016/ 5:14 PM</td>\n",
       "      <td>Business</td>\n",
       "      <td>San franscisco</td>\n",
       "      <td>Fort Perce</td>\n",
       "      <td>33.6</td>\n",
       "      <td>Customer visit</td>\n",
       "    </tr>\n",
       "    <tr>\n",
       "      <th>94</th>\n",
       "      <td>18/9/2016/ 2:27 PM</td>\n",
       "      <td>18/9/2016/ 2:27 PM</td>\n",
       "      <td>Business</td>\n",
       "      <td>Fort Perce</td>\n",
       "      <td>Fort Perce</td>\n",
       "      <td>31.7</td>\n",
       "      <td>Customer visit</td>\n",
       "    </tr>\n",
       "  </tbody>\n",
       "</table>\n",
       "<p>65 rows × 7 columns</p>\n",
       "</div>"
      ],
      "text/plain": [
       "            START_DATE*            END_DATE* CATEGORY*          START*  \\\n",
       "4    4/8/2016/ 12:01 PM    4/8/2016/ 6:01 PM  Business      Fort Perce   \n",
       "11   29/1/2016/ 5:14 PM   29/1/2016/ 5:14 PM  Business            Cary   \n",
       "12   18/9/2016/ 2:27 PM   18/9/2016/ 2:27 PM  Business          Durham   \n",
       "13   17/4/2016/ 6:29 PM   17/4/2016/ 6:29 PM  Business      Fort Perce   \n",
       "19  4/10/2016/  1:09 PM  4/10/2016/  1:09 PM  Business   Newport beach   \n",
       "..                  ...                  ...       ...             ...   \n",
       "90   16/2/2016/ 8:10 PM   16/2/2016/ 8:10 PM  Business      Fort Perce   \n",
       "91  11/12/2016/ 9:56 AM  11/12/2016/ 9:56 AM  Business      San marino   \n",
       "92  17/10/2016/ 4:10 PM  17/10/2016/ 4:10 PM  Business      Fort Perce   \n",
       "93   29/1/2016/ 5:14 PM   29/1/2016/ 5:14 PM  Business  San franscisco   \n",
       "94   18/9/2016/ 2:27 PM   18/9/2016/ 2:27 PM  Business      Fort Perce   \n",
       "\n",
       "         STOP*  MILES*        PURPOSES*  \n",
       "4   Fort Perce    63.7  Meal/Enterprise  \n",
       "11      Durham    21.3  Meal/Enterprise  \n",
       "12        Cary    23.6  Meal/Enterprise  \n",
       "13  Fort Perce    53.2   Customer visit  \n",
       "19  Fort Perce    35.3  Meal/Enterprise  \n",
       "..         ...     ...              ...  \n",
       "90    Stockton    38.6          Meeting  \n",
       "91  Fort Perce    62.9          Meeting  \n",
       "92  Louisville    56.3          Meeting  \n",
       "93  Fort Perce    33.6   Customer visit  \n",
       "94  Fort Perce    31.7   Customer visit  \n",
       "\n",
       "[65 rows x 7 columns]"
      ]
     },
     "execution_count": 23,
     "metadata": {},
     "output_type": "execute_result"
    }
   ],
   "source": [
    "df2 = df[df[\"MILES*\"] > 10]\n",
    "df2"
   ]
  },
  {
   "cell_type": "code",
   "execution_count": 24,
   "metadata": {},
   "outputs": [
    {
     "data": {
      "text/html": [
       "<div>\n",
       "<style scoped>\n",
       "    .dataframe tbody tr th:only-of-type {\n",
       "        vertical-align: middle;\n",
       "    }\n",
       "\n",
       "    .dataframe tbody tr th {\n",
       "        vertical-align: top;\n",
       "    }\n",
       "\n",
       "    .dataframe thead th {\n",
       "        text-align: right;\n",
       "    }\n",
       "</style>\n",
       "<table border=\"1\" class=\"dataframe\">\n",
       "  <thead>\n",
       "    <tr style=\"text-align: right;\">\n",
       "      <th></th>\n",
       "      <th>START_DATE*</th>\n",
       "      <th>MILES*</th>\n",
       "    </tr>\n",
       "  </thead>\n",
       "  <tbody>\n",
       "    <tr>\n",
       "      <th>4</th>\n",
       "      <td>4/8/2016/ 12:01 PM</td>\n",
       "      <td>63.7</td>\n",
       "    </tr>\n",
       "    <tr>\n",
       "      <th>11</th>\n",
       "      <td>29/1/2016/ 5:14 PM</td>\n",
       "      <td>21.3</td>\n",
       "    </tr>\n",
       "    <tr>\n",
       "      <th>12</th>\n",
       "      <td>18/9/2016/ 2:27 PM</td>\n",
       "      <td>23.6</td>\n",
       "    </tr>\n",
       "    <tr>\n",
       "      <th>13</th>\n",
       "      <td>17/4/2016/ 6:29 PM</td>\n",
       "      <td>53.2</td>\n",
       "    </tr>\n",
       "    <tr>\n",
       "      <th>19</th>\n",
       "      <td>4/10/2016/  1:09 PM</td>\n",
       "      <td>35.3</td>\n",
       "    </tr>\n",
       "  </tbody>\n",
       "</table>\n",
       "</div>"
      ],
      "text/plain": [
       "            START_DATE*  MILES*\n",
       "4    4/8/2016/ 12:01 PM    63.7\n",
       "11   29/1/2016/ 5:14 PM    21.3\n",
       "12   18/9/2016/ 2:27 PM    23.6\n",
       "13   17/4/2016/ 6:29 PM    53.2\n",
       "19  4/10/2016/  1:09 PM    35.3"
      ]
     },
     "execution_count": 24,
     "metadata": {},
     "output_type": "execute_result"
    }
   ],
   "source": [
    "df2 = df.loc[df[\"MILES*\"] > 10, [\"START_DATE*\", \"MILES*\"]]\n",
    "df2.head()"
   ]
  },
  {
   "cell_type": "code",
   "execution_count": 25,
   "metadata": {},
   "outputs": [
    {
     "data": {
      "text/html": [
       "<div>\n",
       "<style scoped>\n",
       "    .dataframe tbody tr th:only-of-type {\n",
       "        vertical-align: middle;\n",
       "    }\n",
       "\n",
       "    .dataframe tbody tr th {\n",
       "        vertical-align: top;\n",
       "    }\n",
       "\n",
       "    .dataframe thead th {\n",
       "        text-align: right;\n",
       "    }\n",
       "</style>\n",
       "<table border=\"1\" class=\"dataframe\">\n",
       "  <thead>\n",
       "    <tr style=\"text-align: right;\">\n",
       "      <th></th>\n",
       "      <th>START_DATE*</th>\n",
       "      <th>END_DATE*</th>\n",
       "      <th>CATEGORY*</th>\n",
       "      <th>START*</th>\n",
       "      <th>STOP*</th>\n",
       "      <th>MILES*</th>\n",
       "      <th>PURPOSES*</th>\n",
       "    </tr>\n",
       "  </thead>\n",
       "  <tbody>\n",
       "    <tr>\n",
       "      <th>4</th>\n",
       "      <td>4/8/2016/ 12:01 PM</td>\n",
       "      <td>4/8/2016/ 6:01 PM</td>\n",
       "      <td>Business</td>\n",
       "      <td>Fort Perce</td>\n",
       "      <td>Fort Perce</td>\n",
       "      <td>63.7</td>\n",
       "      <td>Meal/Enterprise</td>\n",
       "    </tr>\n",
       "    <tr>\n",
       "      <th>11</th>\n",
       "      <td>29/1/2016/ 5:14 PM</td>\n",
       "      <td>29/1/2016/ 5:14 PM</td>\n",
       "      <td>Business</td>\n",
       "      <td>Cary</td>\n",
       "      <td>Durham</td>\n",
       "      <td>21.3</td>\n",
       "      <td>Meal/Enterprise</td>\n",
       "    </tr>\n",
       "    <tr>\n",
       "      <th>12</th>\n",
       "      <td>18/9/2016/ 2:27 PM</td>\n",
       "      <td>18/9/2016/ 2:27 PM</td>\n",
       "      <td>Business</td>\n",
       "      <td>Durham</td>\n",
       "      <td>Cary</td>\n",
       "      <td>23.6</td>\n",
       "      <td>Meal/Enterprise</td>\n",
       "    </tr>\n",
       "    <tr>\n",
       "      <th>13</th>\n",
       "      <td>17/4/2016/ 6:29 PM</td>\n",
       "      <td>17/4/2016/ 6:29 PM</td>\n",
       "      <td>Business</td>\n",
       "      <td>Fort Perce</td>\n",
       "      <td>Fort Perce</td>\n",
       "      <td>53.2</td>\n",
       "      <td>Customer visit</td>\n",
       "    </tr>\n",
       "    <tr>\n",
       "      <th>19</th>\n",
       "      <td>4/10/2016/  1:09 PM</td>\n",
       "      <td>4/10/2016/  1:09 PM</td>\n",
       "      <td>Business</td>\n",
       "      <td>Newport beach</td>\n",
       "      <td>Fort Perce</td>\n",
       "      <td>35.3</td>\n",
       "      <td>Meal/Enterprise</td>\n",
       "    </tr>\n",
       "  </tbody>\n",
       "</table>\n",
       "</div>"
      ],
      "text/plain": [
       "            START_DATE*            END_DATE* CATEGORY*         START*  \\\n",
       "4    4/8/2016/ 12:01 PM    4/8/2016/ 6:01 PM  Business     Fort Perce   \n",
       "11   29/1/2016/ 5:14 PM   29/1/2016/ 5:14 PM  Business           Cary   \n",
       "12   18/9/2016/ 2:27 PM   18/9/2016/ 2:27 PM  Business         Durham   \n",
       "13   17/4/2016/ 6:29 PM   17/4/2016/ 6:29 PM  Business     Fort Perce   \n",
       "19  4/10/2016/  1:09 PM  4/10/2016/  1:09 PM  Business  Newport beach   \n",
       "\n",
       "         STOP*  MILES*        PURPOSES*  \n",
       "4   Fort Perce    63.7  Meal/Enterprise  \n",
       "11      Durham    21.3  Meal/Enterprise  \n",
       "12        Cary    23.6  Meal/Enterprise  \n",
       "13  Fort Perce    53.2   Customer visit  \n",
       "19  Fort Perce    35.3  Meal/Enterprise  "
      ]
     },
     "execution_count": 25,
     "metadata": {},
     "output_type": "execute_result"
    }
   ],
   "source": [
    "df.loc[df[\"MILES*\"] > 10].head()"
   ]
  },
  {
   "cell_type": "code",
   "execution_count": 26,
   "metadata": {},
   "outputs": [
    {
     "data": {
      "text/html": [
       "<div>\n",
       "<style scoped>\n",
       "    .dataframe tbody tr th:only-of-type {\n",
       "        vertical-align: middle;\n",
       "    }\n",
       "\n",
       "    .dataframe tbody tr th {\n",
       "        vertical-align: top;\n",
       "    }\n",
       "\n",
       "    .dataframe thead th {\n",
       "        text-align: right;\n",
       "    }\n",
       "</style>\n",
       "<table border=\"1\" class=\"dataframe\">\n",
       "  <thead>\n",
       "    <tr style=\"text-align: right;\">\n",
       "      <th></th>\n",
       "      <th>MILES*</th>\n",
       "    </tr>\n",
       "  </thead>\n",
       "  <tbody>\n",
       "    <tr>\n",
       "      <th>5</th>\n",
       "      <td>7.3</td>\n",
       "    </tr>\n",
       "    <tr>\n",
       "      <th>25</th>\n",
       "      <td>4.2</td>\n",
       "    </tr>\n",
       "    <tr>\n",
       "      <th>34</th>\n",
       "      <td>25.9</td>\n",
       "    </tr>\n",
       "    <tr>\n",
       "      <th>48</th>\n",
       "      <td>16.5</td>\n",
       "    </tr>\n",
       "    <tr>\n",
       "      <th>59</th>\n",
       "      <td>67.8</td>\n",
       "    </tr>\n",
       "  </tbody>\n",
       "</table>\n",
       "</div>"
      ],
      "text/plain": [
       "    MILES*\n",
       "5      7.3\n",
       "25     4.2\n",
       "34    25.9\n",
       "48    16.5\n",
       "59    67.8"
      ]
     },
     "execution_count": 26,
     "metadata": {},
     "output_type": "execute_result"
    }
   ],
   "source": [
    "# Find out all rides from New York\n",
    "df.loc[df[\"START*\"]==\"New York\",[\"MILES*\"]].head()"
   ]
  },
  {
   "cell_type": "code",
   "execution_count": 27,
   "metadata": {},
   "outputs": [
    {
     "data": {
      "text/html": [
       "<div>\n",
       "<style scoped>\n",
       "    .dataframe tbody tr th:only-of-type {\n",
       "        vertical-align: middle;\n",
       "    }\n",
       "\n",
       "    .dataframe tbody tr th {\n",
       "        vertical-align: top;\n",
       "    }\n",
       "\n",
       "    .dataframe thead th {\n",
       "        text-align: right;\n",
       "    }\n",
       "</style>\n",
       "<table border=\"1\" class=\"dataframe\">\n",
       "  <thead>\n",
       "    <tr style=\"text-align: right;\">\n",
       "      <th></th>\n",
       "      <th>START_DATE*</th>\n",
       "      <th>END_DATE*</th>\n",
       "      <th>CATEGORY*</th>\n",
       "      <th>START*</th>\n",
       "      <th>STOP*</th>\n",
       "      <th>MILES*</th>\n",
       "      <th>PURPOSES*</th>\n",
       "    </tr>\n",
       "  </thead>\n",
       "  <tbody>\n",
       "    <tr>\n",
       "      <th>5</th>\n",
       "      <td>28/2/2016/ 7:16 PM</td>\n",
       "      <td>28/2/2016/ 7:16 PM</td>\n",
       "      <td>Business</td>\n",
       "      <td>New York</td>\n",
       "      <td>Queens County</td>\n",
       "      <td>7.3</td>\n",
       "      <td>Meal/Enterprise</td>\n",
       "    </tr>\n",
       "    <tr>\n",
       "      <th>11</th>\n",
       "      <td>29/1/2016/ 5:14 PM</td>\n",
       "      <td>29/1/2016/ 5:14 PM</td>\n",
       "      <td>Business</td>\n",
       "      <td>Cary</td>\n",
       "      <td>Durham</td>\n",
       "      <td>21.3</td>\n",
       "      <td>Meal/Enterprise</td>\n",
       "    </tr>\n",
       "    <tr>\n",
       "      <th>25</th>\n",
       "      <td>29/1/2016/ 5:14 PM</td>\n",
       "      <td>29/1/2016/ 5:14 PM</td>\n",
       "      <td>Business</td>\n",
       "      <td>New York</td>\n",
       "      <td>Miami</td>\n",
       "      <td>4.2</td>\n",
       "      <td>Meal/Enterprise</td>\n",
       "    </tr>\n",
       "    <tr>\n",
       "      <th>34</th>\n",
       "      <td>29/1/2016/ 5:14 PM</td>\n",
       "      <td>29/1/2016/ 5:14 PM</td>\n",
       "      <td>Business</td>\n",
       "      <td>New York</td>\n",
       "      <td>Fort Perce</td>\n",
       "      <td>25.9</td>\n",
       "      <td>Meal/Enterprise</td>\n",
       "    </tr>\n",
       "    <tr>\n",
       "      <th>48</th>\n",
       "      <td>4/8/2016/ 12:01 PM</td>\n",
       "      <td>4/8/2016/ 12:01 PM</td>\n",
       "      <td>Business</td>\n",
       "      <td>New York</td>\n",
       "      <td>Fort Perce</td>\n",
       "      <td>16.5</td>\n",
       "      <td>Meal/Enterprise</td>\n",
       "    </tr>\n",
       "    <tr>\n",
       "      <th>59</th>\n",
       "      <td>4/1/2016/ 11:52 AM</td>\n",
       "      <td>4/1/2016/ 11:52 AM</td>\n",
       "      <td>Business</td>\n",
       "      <td>New York</td>\n",
       "      <td>Fort Perce</td>\n",
       "      <td>67.8</td>\n",
       "      <td>Meal/Enterprise</td>\n",
       "    </tr>\n",
       "    <tr>\n",
       "      <th>62</th>\n",
       "      <td>6/7/2016/ 21:11 PM</td>\n",
       "      <td>6/7/2016/ 21:11 PM</td>\n",
       "      <td>Business</td>\n",
       "      <td>New York</td>\n",
       "      <td>Fort Perce</td>\n",
       "      <td>90.9</td>\n",
       "      <td>Meal/Enterprise</td>\n",
       "    </tr>\n",
       "    <tr>\n",
       "      <th>72</th>\n",
       "      <td>6/7/2016/ 5:11 PM</td>\n",
       "      <td>6/7/2016/ 5:11 PM</td>\n",
       "      <td>Business</td>\n",
       "      <td>New York</td>\n",
       "      <td>Fort Perce</td>\n",
       "      <td>12.9</td>\n",
       "      <td>Meal/Enterprise</td>\n",
       "    </tr>\n",
       "    <tr>\n",
       "      <th>78</th>\n",
       "      <td>18/9/2016/ 2:27 PM</td>\n",
       "      <td>18/9/2016/ 2:27 PM</td>\n",
       "      <td>Business</td>\n",
       "      <td>New York</td>\n",
       "      <td>Fort Perce</td>\n",
       "      <td>78.9</td>\n",
       "      <td>Meal/Enterprise</td>\n",
       "    </tr>\n",
       "    <tr>\n",
       "      <th>89</th>\n",
       "      <td>13/4/2016/ 10:31 PM</td>\n",
       "      <td>13/4/2016/ 10:31 PM</td>\n",
       "      <td>Business</td>\n",
       "      <td>New York</td>\n",
       "      <td>Fort Perce</td>\n",
       "      <td>39.7</td>\n",
       "      <td>Meal/Enterprise</td>\n",
       "    </tr>\n",
       "    <tr>\n",
       "      <th>98</th>\n",
       "      <td>18/9/2016/ 12.30 PM</td>\n",
       "      <td>18/9/2016/ 12.30 PM</td>\n",
       "      <td>Business</td>\n",
       "      <td>New York</td>\n",
       "      <td>Arlington</td>\n",
       "      <td>6.9</td>\n",
       "      <td>Meal/Enterprise</td>\n",
       "    </tr>\n",
       "  </tbody>\n",
       "</table>\n",
       "</div>"
      ],
      "text/plain": [
       "            START_DATE*            END_DATE* CATEGORY*    START*  \\\n",
       "5    28/2/2016/ 7:16 PM   28/2/2016/ 7:16 PM  Business  New York   \n",
       "11   29/1/2016/ 5:14 PM   29/1/2016/ 5:14 PM  Business      Cary   \n",
       "25   29/1/2016/ 5:14 PM   29/1/2016/ 5:14 PM  Business  New York   \n",
       "34   29/1/2016/ 5:14 PM   29/1/2016/ 5:14 PM  Business  New York   \n",
       "48   4/8/2016/ 12:01 PM   4/8/2016/ 12:01 PM  Business  New York   \n",
       "59   4/1/2016/ 11:52 AM   4/1/2016/ 11:52 AM  Business  New York   \n",
       "62   6/7/2016/ 21:11 PM   6/7/2016/ 21:11 PM  Business  New York   \n",
       "72    6/7/2016/ 5:11 PM    6/7/2016/ 5:11 PM  Business  New York   \n",
       "78   18/9/2016/ 2:27 PM   18/9/2016/ 2:27 PM  Business  New York   \n",
       "89  13/4/2016/ 10:31 PM  13/4/2016/ 10:31 PM  Business  New York   \n",
       "98  18/9/2016/ 12.30 PM  18/9/2016/ 12.30 PM  Business  New York   \n",
       "\n",
       "            STOP*  MILES*        PURPOSES*  \n",
       "5   Queens County     7.3  Meal/Enterprise  \n",
       "11         Durham    21.3  Meal/Enterprise  \n",
       "25          Miami     4.2  Meal/Enterprise  \n",
       "34     Fort Perce    25.9  Meal/Enterprise  \n",
       "48     Fort Perce    16.5  Meal/Enterprise  \n",
       "59     Fort Perce    67.8  Meal/Enterprise  \n",
       "62     Fort Perce    90.9  Meal/Enterprise  \n",
       "72     Fort Perce    12.9  Meal/Enterprise  \n",
       "78     Fort Perce    78.9  Meal/Enterprise  \n",
       "89     Fort Perce    39.7  Meal/Enterprise  \n",
       "98      Arlington     6.9  Meal/Enterprise  "
      ]
     },
     "execution_count": 27,
     "metadata": {},
     "output_type": "execute_result"
    }
   ],
   "source": [
    "# FInd out all rides to Cary and New York\n",
    "my_rides = df[df[\"START*\"].isin([\"Cary\",\"New York\"])]\n",
    "#my_rides.head(n = 10)\n",
    "my_rides[:]"
   ]
  },
  {
   "cell_type": "code",
   "execution_count": 28,
   "metadata": {},
   "outputs": [
    {
     "data": {
      "text/html": [
       "<div>\n",
       "<style scoped>\n",
       "    .dataframe tbody tr th:only-of-type {\n",
       "        vertical-align: middle;\n",
       "    }\n",
       "\n",
       "    .dataframe tbody tr th {\n",
       "        vertical-align: top;\n",
       "    }\n",
       "\n",
       "    .dataframe thead th {\n",
       "        text-align: right;\n",
       "    }\n",
       "</style>\n",
       "<table border=\"1\" class=\"dataframe\">\n",
       "  <thead>\n",
       "    <tr style=\"text-align: right;\">\n",
       "      <th></th>\n",
       "      <th>START_DATE*</th>\n",
       "      <th>END_DATE*</th>\n",
       "      <th>CATEGORY*</th>\n",
       "      <th>START*</th>\n",
       "      <th>STOP*</th>\n",
       "      <th>MILES*</th>\n",
       "      <th>PURPOSES*</th>\n",
       "    </tr>\n",
       "  </thead>\n",
       "  <tbody>\n",
       "    <tr>\n",
       "      <th>11</th>\n",
       "      <td>29/1/2016/ 5:14 PM</td>\n",
       "      <td>29/1/2016/ 5:14 PM</td>\n",
       "      <td>Business</td>\n",
       "      <td>Cary</td>\n",
       "      <td>Durham</td>\n",
       "      <td>21.3</td>\n",
       "      <td>Meal/Enterprise</td>\n",
       "    </tr>\n",
       "    <tr>\n",
       "      <th>34</th>\n",
       "      <td>29/1/2016/ 5:14 PM</td>\n",
       "      <td>29/1/2016/ 5:14 PM</td>\n",
       "      <td>Business</td>\n",
       "      <td>New York</td>\n",
       "      <td>Fort Perce</td>\n",
       "      <td>25.9</td>\n",
       "      <td>Meal/Enterprise</td>\n",
       "    </tr>\n",
       "    <tr>\n",
       "      <th>48</th>\n",
       "      <td>4/8/2016/ 12:01 PM</td>\n",
       "      <td>4/8/2016/ 12:01 PM</td>\n",
       "      <td>Business</td>\n",
       "      <td>New York</td>\n",
       "      <td>Fort Perce</td>\n",
       "      <td>16.5</td>\n",
       "      <td>Meal/Enterprise</td>\n",
       "    </tr>\n",
       "  </tbody>\n",
       "</table>\n",
       "</div>"
      ],
      "text/plain": [
       "           START_DATE*           END_DATE* CATEGORY*    START*       STOP*  \\\n",
       "11  29/1/2016/ 5:14 PM  29/1/2016/ 5:14 PM  Business      Cary      Durham   \n",
       "34  29/1/2016/ 5:14 PM  29/1/2016/ 5:14 PM  Business  New York  Fort Perce   \n",
       "48  4/8/2016/ 12:01 PM  4/8/2016/ 12:01 PM  Business  New York  Fort Perce   \n",
       "\n",
       "    MILES*        PURPOSES*  \n",
       "11    21.3  Meal/Enterprise  \n",
       "34    25.9  Meal/Enterprise  \n",
       "48    16.5  Meal/Enterprise  "
      ]
     },
     "execution_count": 28,
     "metadata": {},
     "output_type": "execute_result"
    }
   ],
   "source": [
    "# Assignment- Find all trips with distance > 10miles and originating from Cary and New York\n",
    "# Extract the top 3 rows \n",
    "df3 = df.loc[(df[\"MILES*\"] > 10) & (df[\"START*\"].isin([\"Cary\", \"New York\"]))]\n",
    "df3.head(n = 3)"
   ]
  },
  {
   "cell_type": "code",
   "execution_count": 29,
   "metadata": {},
   "outputs": [
    {
     "data": {
      "text/html": [
       "<div>\n",
       "<style scoped>\n",
       "    .dataframe tbody tr th:only-of-type {\n",
       "        vertical-align: middle;\n",
       "    }\n",
       "\n",
       "    .dataframe tbody tr th {\n",
       "        vertical-align: top;\n",
       "    }\n",
       "\n",
       "    .dataframe thead th {\n",
       "        text-align: right;\n",
       "    }\n",
       "</style>\n",
       "<table border=\"1\" class=\"dataframe\">\n",
       "  <thead>\n",
       "    <tr style=\"text-align: right;\">\n",
       "      <th></th>\n",
       "      <th>START_DATE*</th>\n",
       "      <th>END_DATE*</th>\n",
       "      <th>CATEGORY*</th>\n",
       "      <th>START*</th>\n",
       "      <th>STOP*</th>\n",
       "      <th>MILES*</th>\n",
       "      <th>PURPOSES*</th>\n",
       "    </tr>\n",
       "  </thead>\n",
       "  <tbody>\n",
       "    <tr>\n",
       "      <th>0</th>\n",
       "      <td>29/1/2016/ 5:14 PM</td>\n",
       "      <td>29/1/2016/ 5:14 PM</td>\n",
       "      <td>Business</td>\n",
       "      <td>Cary</td>\n",
       "      <td>Durham</td>\n",
       "      <td>21.3</td>\n",
       "      <td>Meal/Enterprise</td>\n",
       "    </tr>\n",
       "    <tr>\n",
       "      <th>1</th>\n",
       "      <td>29/1/2016/ 5:14 PM</td>\n",
       "      <td>29/1/2016/ 5:14 PM</td>\n",
       "      <td>Business</td>\n",
       "      <td>New York</td>\n",
       "      <td>Fort Perce</td>\n",
       "      <td>25.9</td>\n",
       "      <td>Meal/Enterprise</td>\n",
       "    </tr>\n",
       "    <tr>\n",
       "      <th>2</th>\n",
       "      <td>4/8/2016/ 12:01 PM</td>\n",
       "      <td>4/8/2016/ 12:01 PM</td>\n",
       "      <td>Business</td>\n",
       "      <td>New York</td>\n",
       "      <td>Fort Perce</td>\n",
       "      <td>16.5</td>\n",
       "      <td>Meal/Enterprise</td>\n",
       "    </tr>\n",
       "    <tr>\n",
       "      <th>3</th>\n",
       "      <td>4/1/2016/ 11:52 AM</td>\n",
       "      <td>4/1/2016/ 11:52 AM</td>\n",
       "      <td>Business</td>\n",
       "      <td>New York</td>\n",
       "      <td>Fort Perce</td>\n",
       "      <td>67.8</td>\n",
       "      <td>Meal/Enterprise</td>\n",
       "    </tr>\n",
       "    <tr>\n",
       "      <th>4</th>\n",
       "      <td>6/7/2016/ 21:11 PM</td>\n",
       "      <td>6/7/2016/ 21:11 PM</td>\n",
       "      <td>Business</td>\n",
       "      <td>New York</td>\n",
       "      <td>Fort Perce</td>\n",
       "      <td>90.9</td>\n",
       "      <td>Meal/Enterprise</td>\n",
       "    </tr>\n",
       "    <tr>\n",
       "      <th>5</th>\n",
       "      <td>6/7/2016/ 5:11 PM</td>\n",
       "      <td>6/7/2016/ 5:11 PM</td>\n",
       "      <td>Business</td>\n",
       "      <td>New York</td>\n",
       "      <td>Fort Perce</td>\n",
       "      <td>12.9</td>\n",
       "      <td>Meal/Enterprise</td>\n",
       "    </tr>\n",
       "    <tr>\n",
       "      <th>6</th>\n",
       "      <td>18/9/2016/ 2:27 PM</td>\n",
       "      <td>18/9/2016/ 2:27 PM</td>\n",
       "      <td>Business</td>\n",
       "      <td>New York</td>\n",
       "      <td>Fort Perce</td>\n",
       "      <td>78.9</td>\n",
       "      <td>Meal/Enterprise</td>\n",
       "    </tr>\n",
       "    <tr>\n",
       "      <th>7</th>\n",
       "      <td>13/4/2016/ 10:31 PM</td>\n",
       "      <td>13/4/2016/ 10:31 PM</td>\n",
       "      <td>Business</td>\n",
       "      <td>New York</td>\n",
       "      <td>Fort Perce</td>\n",
       "      <td>39.7</td>\n",
       "      <td>Meal/Enterprise</td>\n",
       "    </tr>\n",
       "  </tbody>\n",
       "</table>\n",
       "</div>"
      ],
      "text/plain": [
       "           START_DATE*            END_DATE* CATEGORY*    START*       STOP*  \\\n",
       "0   29/1/2016/ 5:14 PM   29/1/2016/ 5:14 PM  Business      Cary      Durham   \n",
       "1   29/1/2016/ 5:14 PM   29/1/2016/ 5:14 PM  Business  New York  Fort Perce   \n",
       "2   4/8/2016/ 12:01 PM   4/8/2016/ 12:01 PM  Business  New York  Fort Perce   \n",
       "3   4/1/2016/ 11:52 AM   4/1/2016/ 11:52 AM  Business  New York  Fort Perce   \n",
       "4   6/7/2016/ 21:11 PM   6/7/2016/ 21:11 PM  Business  New York  Fort Perce   \n",
       "5    6/7/2016/ 5:11 PM    6/7/2016/ 5:11 PM  Business  New York  Fort Perce   \n",
       "6   18/9/2016/ 2:27 PM   18/9/2016/ 2:27 PM  Business  New York  Fort Perce   \n",
       "7  13/4/2016/ 10:31 PM  13/4/2016/ 10:31 PM  Business  New York  Fort Perce   \n",
       "\n",
       "   MILES*        PURPOSES*  \n",
       "0    21.3  Meal/Enterprise  \n",
       "1    25.9  Meal/Enterprise  \n",
       "2    16.5  Meal/Enterprise  \n",
       "3    67.8  Meal/Enterprise  \n",
       "4    90.9  Meal/Enterprise  \n",
       "5    12.9  Meal/Enterprise  \n",
       "6    78.9  Meal/Enterprise  \n",
       "7    39.7  Meal/Enterprise  "
      ]
     },
     "execution_count": 29,
     "metadata": {},
     "output_type": "execute_result"
    }
   ],
   "source": [
    "df3 = df.loc[(df[\"MILES*\"] > 10) & (df[\"START*\"].isin([\"Cary\", \"New York\"]))]\n",
    "df3.reset_index(inplace = True, drop = True)\n",
    "df3"
   ]
  },
  {
   "cell_type": "markdown",
   "metadata": {},
   "source": [
    "# Sorting"
   ]
  },
  {
   "cell_type": "code",
   "execution_count": 30,
   "metadata": {},
   "outputs": [
    {
     "data": {
      "text/html": [
       "<div>\n",
       "<style scoped>\n",
       "    .dataframe tbody tr th:only-of-type {\n",
       "        vertical-align: middle;\n",
       "    }\n",
       "\n",
       "    .dataframe tbody tr th {\n",
       "        vertical-align: top;\n",
       "    }\n",
       "\n",
       "    .dataframe thead th {\n",
       "        text-align: right;\n",
       "    }\n",
       "</style>\n",
       "<table border=\"1\" class=\"dataframe\">\n",
       "  <thead>\n",
       "    <tr style=\"text-align: right;\">\n",
       "      <th></th>\n",
       "      <th>START_DATE*</th>\n",
       "      <th>END_DATE*</th>\n",
       "      <th>CATEGORY*</th>\n",
       "      <th>START*</th>\n",
       "      <th>STOP*</th>\n",
       "      <th>MILES*</th>\n",
       "      <th>PURPOSES*</th>\n",
       "    </tr>\n",
       "  </thead>\n",
       "  <tbody>\n",
       "    <tr>\n",
       "      <th>62</th>\n",
       "      <td>6/7/2016/ 21:11 PM</td>\n",
       "      <td>6/7/2016/ 21:11 PM</td>\n",
       "      <td>Business</td>\n",
       "      <td>New York</td>\n",
       "      <td>Fort Perce</td>\n",
       "      <td>90.9</td>\n",
       "      <td>Meal/Enterprise</td>\n",
       "    </tr>\n",
       "    <tr>\n",
       "      <th>67</th>\n",
       "      <td>24/5/2016 /17:31 PM</td>\n",
       "      <td>24/5/2016 /17:31 PM</td>\n",
       "      <td>Business</td>\n",
       "      <td>Jacksonville</td>\n",
       "      <td>Queens County</td>\n",
       "      <td>90.7</td>\n",
       "      <td>Meal/Enterprise</td>\n",
       "    </tr>\n",
       "    <tr>\n",
       "      <th>42</th>\n",
       "      <td>4/10/2016/  1:09 PM</td>\n",
       "      <td>4/10/2016/  1:09 PM</td>\n",
       "      <td>Business</td>\n",
       "      <td>Fort Perce</td>\n",
       "      <td>Auburn</td>\n",
       "      <td>80.5</td>\n",
       "      <td>Meal/Enterprise</td>\n",
       "    </tr>\n",
       "    <tr>\n",
       "      <th>78</th>\n",
       "      <td>18/9/2016/ 2:27 PM</td>\n",
       "      <td>18/9/2016/ 2:27 PM</td>\n",
       "      <td>Business</td>\n",
       "      <td>New York</td>\n",
       "      <td>Fort Perce</td>\n",
       "      <td>78.9</td>\n",
       "      <td>Meal/Enterprise</td>\n",
       "    </tr>\n",
       "    <tr>\n",
       "      <th>56</th>\n",
       "      <td>18/9/2016/ 2:27 PM</td>\n",
       "      <td>18/9/2016/ 2:27 PM</td>\n",
       "      <td>Business</td>\n",
       "      <td>Fort Perce</td>\n",
       "      <td>Illinois</td>\n",
       "      <td>76.9</td>\n",
       "      <td>Meal/Enterprise</td>\n",
       "    </tr>\n",
       "  </tbody>\n",
       "</table>\n",
       "</div>"
      ],
      "text/plain": [
       "            START_DATE*            END_DATE* CATEGORY*        START*  \\\n",
       "62   6/7/2016/ 21:11 PM   6/7/2016/ 21:11 PM  Business      New York   \n",
       "67  24/5/2016 /17:31 PM  24/5/2016 /17:31 PM  Business  Jacksonville   \n",
       "42  4/10/2016/  1:09 PM  4/10/2016/  1:09 PM  Business    Fort Perce   \n",
       "78   18/9/2016/ 2:27 PM   18/9/2016/ 2:27 PM  Business      New York   \n",
       "56   18/9/2016/ 2:27 PM   18/9/2016/ 2:27 PM  Business    Fort Perce   \n",
       "\n",
       "            STOP*  MILES*        PURPOSES*  \n",
       "62     Fort Perce    90.9  Meal/Enterprise  \n",
       "67  Queens County    90.7  Meal/Enterprise  \n",
       "42         Auburn    80.5  Meal/Enterprise  \n",
       "78     Fort Perce    78.9  Meal/Enterprise  \n",
       "56       Illinois    76.9  Meal/Enterprise  "
      ]
     },
     "execution_count": 30,
     "metadata": {},
     "output_type": "execute_result"
    }
   ],
   "source": [
    "df.sort_values(by=[\"MILES*\"], ascending=False).head(5)"
   ]
  },
  {
   "cell_type": "code",
   "execution_count": 31,
   "metadata": {},
   "outputs": [
    {
     "data": {
      "text/html": [
       "<div>\n",
       "<style scoped>\n",
       "    .dataframe tbody tr th:only-of-type {\n",
       "        vertical-align: middle;\n",
       "    }\n",
       "\n",
       "    .dataframe tbody tr th {\n",
       "        vertical-align: top;\n",
       "    }\n",
       "\n",
       "    .dataframe thead th {\n",
       "        text-align: right;\n",
       "    }\n",
       "</style>\n",
       "<table border=\"1\" class=\"dataframe\">\n",
       "  <thead>\n",
       "    <tr style=\"text-align: right;\">\n",
       "      <th></th>\n",
       "      <th>START_DATE*</th>\n",
       "      <th>END_DATE*</th>\n",
       "      <th>CATEGORY*</th>\n",
       "      <th>START*</th>\n",
       "      <th>STOP*</th>\n",
       "      <th>MILES*</th>\n",
       "      <th>PURPOSES*</th>\n",
       "    </tr>\n",
       "  </thead>\n",
       "  <tbody>\n",
       "    <tr>\n",
       "      <th>55</th>\n",
       "      <td>29/1/2016/ 5:14 PM</td>\n",
       "      <td>29/1/2016/ 5:14 PM</td>\n",
       "      <td>Business</td>\n",
       "      <td>Austin</td>\n",
       "      <td>Fort Perce</td>\n",
       "      <td>65.9</td>\n",
       "      <td>Meal/Enterprise</td>\n",
       "    </tr>\n",
       "    <tr>\n",
       "      <th>45</th>\n",
       "      <td>6/4/2016/1:15 PM</td>\n",
       "      <td>6/4/2016/1:15 PM</td>\n",
       "      <td>Business</td>\n",
       "      <td>Baltimore</td>\n",
       "      <td>Anniston</td>\n",
       "      <td>4.9</td>\n",
       "      <td>Meal/Enterprise</td>\n",
       "    </tr>\n",
       "    <tr>\n",
       "      <th>20</th>\n",
       "      <td>6/7/2016/ 5:11 PM</td>\n",
       "      <td>6/7/2016/ 5:11 PM</td>\n",
       "      <td>Business</td>\n",
       "      <td>Beverly hills</td>\n",
       "      <td>Tacoma</td>\n",
       "      <td>12.4</td>\n",
       "      <td>Meal/Enterprise</td>\n",
       "    </tr>\n",
       "    <tr>\n",
       "      <th>87</th>\n",
       "      <td>28/2/2016/ 7:16 PM</td>\n",
       "      <td>28/2/2016/ 7:16 PM</td>\n",
       "      <td>Business</td>\n",
       "      <td>Boston</td>\n",
       "      <td>Fort Perce</td>\n",
       "      <td>45.7</td>\n",
       "      <td>Meal/Enterprise</td>\n",
       "    </tr>\n",
       "    <tr>\n",
       "      <th>11</th>\n",
       "      <td>29/1/2016/ 5:14 PM</td>\n",
       "      <td>29/1/2016/ 5:14 PM</td>\n",
       "      <td>Business</td>\n",
       "      <td>Cary</td>\n",
       "      <td>Durham</td>\n",
       "      <td>21.3</td>\n",
       "      <td>Meal/Enterprise</td>\n",
       "    </tr>\n",
       "    <tr>\n",
       "      <th>...</th>\n",
       "      <td>...</td>\n",
       "      <td>...</td>\n",
       "      <td>...</td>\n",
       "      <td>...</td>\n",
       "      <td>...</td>\n",
       "      <td>...</td>\n",
       "      <td>...</td>\n",
       "    </tr>\n",
       "    <tr>\n",
       "      <th>32</th>\n",
       "      <td>2/6/2016/ 6:18 PM</td>\n",
       "      <td>2/6/2016/ 6:18 PM</td>\n",
       "      <td>Business</td>\n",
       "      <td>Seattle</td>\n",
       "      <td>Fort Perce</td>\n",
       "      <td>30.5</td>\n",
       "      <td>Meal/Enterprise</td>\n",
       "    </tr>\n",
       "    <tr>\n",
       "      <th>39</th>\n",
       "      <td>8/3/2016/ 3:16 PM</td>\n",
       "      <td>8/3/2016/ 3:16 PM</td>\n",
       "      <td>Business</td>\n",
       "      <td>St. Louis</td>\n",
       "      <td>Birmingham</td>\n",
       "      <td>19.9</td>\n",
       "      <td>Meal/Enterprise</td>\n",
       "    </tr>\n",
       "    <tr>\n",
       "      <th>28</th>\n",
       "      <td>19/2/2016/ 8:41 AM</td>\n",
       "      <td>19/2/2016/ 8:41 AM</td>\n",
       "      <td>Business</td>\n",
       "      <td>Stuttgart</td>\n",
       "      <td>San jose</td>\n",
       "      <td>3.9</td>\n",
       "      <td>Meal/Enterprise</td>\n",
       "    </tr>\n",
       "    <tr>\n",
       "      <th>21</th>\n",
       "      <td>30/11/2016/  11:00 PM</td>\n",
       "      <td>30/11/2016/  11:00 PM</td>\n",
       "      <td>Business</td>\n",
       "      <td>Vallejo</td>\n",
       "      <td>Fort Perce</td>\n",
       "      <td>45.8</td>\n",
       "      <td>Meal/Enterprise</td>\n",
       "    </tr>\n",
       "    <tr>\n",
       "      <th>97</th>\n",
       "      <td>4/1/2016/ 11:52 AM</td>\n",
       "      <td>4/1/2016/ 11:52 AM</td>\n",
       "      <td>Business</td>\n",
       "      <td>Winston-Salem</td>\n",
       "      <td>Fort Perce</td>\n",
       "      <td>8.1</td>\n",
       "      <td>Meal/Enterprise</td>\n",
       "    </tr>\n",
       "  </tbody>\n",
       "</table>\n",
       "<p>99 rows × 7 columns</p>\n",
       "</div>"
      ],
      "text/plain": [
       "              START_DATE*              END_DATE* CATEGORY*         START*  \\\n",
       "55     29/1/2016/ 5:14 PM     29/1/2016/ 5:14 PM  Business         Austin   \n",
       "45       6/4/2016/1:15 PM       6/4/2016/1:15 PM  Business      Baltimore   \n",
       "20      6/7/2016/ 5:11 PM      6/7/2016/ 5:11 PM  Business  Beverly hills   \n",
       "87     28/2/2016/ 7:16 PM     28/2/2016/ 7:16 PM  Business         Boston   \n",
       "11     29/1/2016/ 5:14 PM     29/1/2016/ 5:14 PM  Business           Cary   \n",
       "..                    ...                    ...       ...            ...   \n",
       "32      2/6/2016/ 6:18 PM      2/6/2016/ 6:18 PM  Business        Seattle   \n",
       "39      8/3/2016/ 3:16 PM      8/3/2016/ 3:16 PM  Business      St. Louis   \n",
       "28     19/2/2016/ 8:41 AM     19/2/2016/ 8:41 AM  Business      Stuttgart   \n",
       "21  30/11/2016/  11:00 PM  30/11/2016/  11:00 PM  Business        Vallejo   \n",
       "97     4/1/2016/ 11:52 AM     4/1/2016/ 11:52 AM  Business  Winston-Salem   \n",
       "\n",
       "         STOP*  MILES*        PURPOSES*  \n",
       "55  Fort Perce    65.9  Meal/Enterprise  \n",
       "45    Anniston     4.9  Meal/Enterprise  \n",
       "20      Tacoma    12.4  Meal/Enterprise  \n",
       "87  Fort Perce    45.7  Meal/Enterprise  \n",
       "11      Durham    21.3  Meal/Enterprise  \n",
       "..         ...     ...              ...  \n",
       "32  Fort Perce    30.5  Meal/Enterprise  \n",
       "39  Birmingham    19.9  Meal/Enterprise  \n",
       "28    San jose     3.9  Meal/Enterprise  \n",
       "21  Fort Perce    45.8  Meal/Enterprise  \n",
       "97  Fort Perce     8.1  Meal/Enterprise  \n",
       "\n",
       "[99 rows x 7 columns]"
      ]
     },
     "execution_count": 31,
     "metadata": {},
     "output_type": "execute_result"
    }
   ],
   "source": [
    "#This will sort first the towns in ascending order(a,b,c,d) then arrange the miles from the largest in respect to the towns' ascended order\n",
    "df.sort_values(by = [\"START*\",\"MILES*\"],ascending = [True,False])"
   ]
  },
  {
   "cell_type": "markdown",
   "metadata": {},
   "source": [
    "# Conditionally adding columns"
   ]
  },
  {
   "cell_type": "code",
   "execution_count": 32,
   "metadata": {
    "scrolled": true
   },
   "outputs": [
    {
     "data": {
      "text/html": [
       "<div>\n",
       "<style scoped>\n",
       "    .dataframe tbody tr th:only-of-type {\n",
       "        vertical-align: middle;\n",
       "    }\n",
       "\n",
       "    .dataframe tbody tr th {\n",
       "        vertical-align: top;\n",
       "    }\n",
       "\n",
       "    .dataframe thead th {\n",
       "        text-align: right;\n",
       "    }\n",
       "</style>\n",
       "<table border=\"1\" class=\"dataframe\">\n",
       "  <thead>\n",
       "    <tr style=\"text-align: right;\">\n",
       "      <th></th>\n",
       "      <th>START_DATE*</th>\n",
       "      <th>END_DATE*</th>\n",
       "      <th>CATEGORY*</th>\n",
       "      <th>START*</th>\n",
       "      <th>STOP*</th>\n",
       "      <th>MILES*</th>\n",
       "      <th>PURPOSES*</th>\n",
       "      <th>Miles_cat</th>\n",
       "    </tr>\n",
       "  </thead>\n",
       "  <tbody>\n",
       "    <tr>\n",
       "      <th>0</th>\n",
       "      <td>1/7/2016/ 2:11 PM</td>\n",
       "      <td>1/7/2016/ 4:11 PM</td>\n",
       "      <td>Business</td>\n",
       "      <td>Detroit</td>\n",
       "      <td>Fort Perce</td>\n",
       "      <td>5.1</td>\n",
       "      <td>Meal/Enterprise</td>\n",
       "      <td>Long Trip</td>\n",
       "    </tr>\n",
       "    <tr>\n",
       "      <th>1</th>\n",
       "      <td>6/4/2016/1:15 PM</td>\n",
       "      <td>6/4/2016/4:15 PM</td>\n",
       "      <td>Business</td>\n",
       "      <td>Fort Perce</td>\n",
       "      <td>West Palm</td>\n",
       "      <td>5.0</td>\n",
       "      <td>Meal/Enterprise</td>\n",
       "      <td>Short Trip</td>\n",
       "    </tr>\n",
       "    <tr>\n",
       "      <th>2</th>\n",
       "      <td>12/8/2016/ 3:11 PM</td>\n",
       "      <td>12/8/2016/ 5:11 PM</td>\n",
       "      <td>Business</td>\n",
       "      <td>Jamaica</td>\n",
       "      <td>New York</td>\n",
       "      <td>4.8</td>\n",
       "      <td>Meal/Enterprise</td>\n",
       "      <td>Short Trip</td>\n",
       "    </tr>\n",
       "    <tr>\n",
       "      <th>3</th>\n",
       "      <td>3/9/2016/ 6:17 PM</td>\n",
       "      <td>3/9/2016/ 8:17 PM</td>\n",
       "      <td>Business</td>\n",
       "      <td>Fort Perce</td>\n",
       "      <td>Fort Perce</td>\n",
       "      <td>4.7</td>\n",
       "      <td>Meal/Enterprise</td>\n",
       "      <td>Short Trip</td>\n",
       "    </tr>\n",
       "    <tr>\n",
       "      <th>4</th>\n",
       "      <td>4/8/2016/ 12:01 PM</td>\n",
       "      <td>4/8/2016/ 6:01 PM</td>\n",
       "      <td>Business</td>\n",
       "      <td>Fort Perce</td>\n",
       "      <td>Fort Perce</td>\n",
       "      <td>63.7</td>\n",
       "      <td>Meal/Enterprise</td>\n",
       "      <td>Long Trip</td>\n",
       "    </tr>\n",
       "    <tr>\n",
       "      <th>...</th>\n",
       "      <td>...</td>\n",
       "      <td>...</td>\n",
       "      <td>...</td>\n",
       "      <td>...</td>\n",
       "      <td>...</td>\n",
       "      <td>...</td>\n",
       "      <td>...</td>\n",
       "      <td>...</td>\n",
       "    </tr>\n",
       "    <tr>\n",
       "      <th>94</th>\n",
       "      <td>18/9/2016/ 2:27 PM</td>\n",
       "      <td>18/9/2016/ 2:27 PM</td>\n",
       "      <td>Business</td>\n",
       "      <td>Fort Perce</td>\n",
       "      <td>Fort Perce</td>\n",
       "      <td>31.7</td>\n",
       "      <td>Customer visit</td>\n",
       "      <td>Long Trip</td>\n",
       "    </tr>\n",
       "    <tr>\n",
       "      <th>95</th>\n",
       "      <td>17/4/2016/ 6:29 PM</td>\n",
       "      <td>17/4/2016/ 6:29 PM</td>\n",
       "      <td>Business</td>\n",
       "      <td>San diego</td>\n",
       "      <td>Providence</td>\n",
       "      <td>5.7</td>\n",
       "      <td>Meal/Enterprise</td>\n",
       "      <td>Long Trip</td>\n",
       "    </tr>\n",
       "    <tr>\n",
       "      <th>96</th>\n",
       "      <td>19/2/2016/ 8:41 AM</td>\n",
       "      <td>19/2/2016/ 8:41 AM</td>\n",
       "      <td>Business</td>\n",
       "      <td>Fort Perce</td>\n",
       "      <td>Fort Perce</td>\n",
       "      <td>7.2</td>\n",
       "      <td>Meal/Enterprise</td>\n",
       "      <td>Long Trip</td>\n",
       "    </tr>\n",
       "    <tr>\n",
       "      <th>97</th>\n",
       "      <td>4/1/2016/ 11:52 AM</td>\n",
       "      <td>4/1/2016/ 11:52 AM</td>\n",
       "      <td>Business</td>\n",
       "      <td>Winston-Salem</td>\n",
       "      <td>Fort Perce</td>\n",
       "      <td>8.1</td>\n",
       "      <td>Meal/Enterprise</td>\n",
       "      <td>Long Trip</td>\n",
       "    </tr>\n",
       "    <tr>\n",
       "      <th>98</th>\n",
       "      <td>18/9/2016/ 12.30 PM</td>\n",
       "      <td>18/9/2016/ 12.30 PM</td>\n",
       "      <td>Business</td>\n",
       "      <td>New York</td>\n",
       "      <td>Arlington</td>\n",
       "      <td>6.9</td>\n",
       "      <td>Meal/Enterprise</td>\n",
       "      <td>Long Trip</td>\n",
       "    </tr>\n",
       "  </tbody>\n",
       "</table>\n",
       "<p>99 rows × 8 columns</p>\n",
       "</div>"
      ],
      "text/plain": [
       "            START_DATE*            END_DATE* CATEGORY*         START*  \\\n",
       "0     1/7/2016/ 2:11 PM    1/7/2016/ 4:11 PM  Business        Detroit   \n",
       "1      6/4/2016/1:15 PM     6/4/2016/4:15 PM  Business     Fort Perce   \n",
       "2    12/8/2016/ 3:11 PM   12/8/2016/ 5:11 PM  Business        Jamaica   \n",
       "3     3/9/2016/ 6:17 PM    3/9/2016/ 8:17 PM  Business     Fort Perce   \n",
       "4    4/8/2016/ 12:01 PM    4/8/2016/ 6:01 PM  Business     Fort Perce   \n",
       "..                  ...                  ...       ...            ...   \n",
       "94   18/9/2016/ 2:27 PM   18/9/2016/ 2:27 PM  Business     Fort Perce   \n",
       "95   17/4/2016/ 6:29 PM   17/4/2016/ 6:29 PM  Business      San diego   \n",
       "96   19/2/2016/ 8:41 AM   19/2/2016/ 8:41 AM  Business     Fort Perce   \n",
       "97   4/1/2016/ 11:52 AM   4/1/2016/ 11:52 AM  Business  Winston-Salem   \n",
       "98  18/9/2016/ 12.30 PM  18/9/2016/ 12.30 PM  Business       New York   \n",
       "\n",
       "         STOP*  MILES*        PURPOSES*   Miles_cat  \n",
       "0   Fort Perce     5.1  Meal/Enterprise   Long Trip  \n",
       "1    West Palm     5.0  Meal/Enterprise  Short Trip  \n",
       "2     New York     4.8  Meal/Enterprise  Short Trip  \n",
       "3   Fort Perce     4.7  Meal/Enterprise  Short Trip  \n",
       "4   Fort Perce    63.7  Meal/Enterprise   Long Trip  \n",
       "..         ...     ...              ...         ...  \n",
       "94  Fort Perce    31.7   Customer visit   Long Trip  \n",
       "95  Providence     5.7  Meal/Enterprise   Long Trip  \n",
       "96  Fort Perce     7.2  Meal/Enterprise   Long Trip  \n",
       "97  Fort Perce     8.1  Meal/Enterprise   Long Trip  \n",
       "98   Arlington     6.9  Meal/Enterprise   Long Trip  \n",
       "\n",
       "[99 rows x 8 columns]"
      ]
     },
     "execution_count": 32,
     "metadata": {},
     "output_type": "execute_result"
    }
   ],
   "source": [
    "import numpy as np\n",
    "df[\"Miles_cat\"] = np.where(df[\"MILES*\"] > 5,\"Long Trip\",\"Short Trip\")\n",
    "df"
   ]
  },
  {
   "cell_type": "code",
   "execution_count": 33,
   "metadata": {},
   "outputs": [
    {
     "data": {
      "text/html": [
       "<div>\n",
       "<style scoped>\n",
       "    .dataframe tbody tr th:only-of-type {\n",
       "        vertical-align: middle;\n",
       "    }\n",
       "\n",
       "    .dataframe tbody tr th {\n",
       "        vertical-align: top;\n",
       "    }\n",
       "\n",
       "    .dataframe thead th {\n",
       "        text-align: right;\n",
       "    }\n",
       "</style>\n",
       "<table border=\"1\" class=\"dataframe\">\n",
       "  <thead>\n",
       "    <tr style=\"text-align: right;\">\n",
       "      <th></th>\n",
       "      <th>START_DATE*</th>\n",
       "      <th>END_DATE*</th>\n",
       "      <th>CATEGORY*</th>\n",
       "      <th>START*</th>\n",
       "      <th>STOP*</th>\n",
       "      <th>MILES*</th>\n",
       "      <th>PURPOSES*</th>\n",
       "      <th>Miles_cat</th>\n",
       "    </tr>\n",
       "  </thead>\n",
       "  <tbody>\n",
       "    <tr>\n",
       "      <th>0</th>\n",
       "      <td>1/7/2016/ 2:11 PM</td>\n",
       "      <td>1/7/2016/ 4:11 PM</td>\n",
       "      <td>Business</td>\n",
       "      <td>Detroit</td>\n",
       "      <td>Fort Perce</td>\n",
       "      <td>5.1</td>\n",
       "      <td>Meal/Enterprise</td>\n",
       "      <td>Long Trip</td>\n",
       "    </tr>\n",
       "    <tr>\n",
       "      <th>1</th>\n",
       "      <td>6/4/2016/1:15 PM</td>\n",
       "      <td>6/4/2016/4:15 PM</td>\n",
       "      <td>Business</td>\n",
       "      <td>Fort Perce</td>\n",
       "      <td>West Palm</td>\n",
       "      <td>5.0</td>\n",
       "      <td>Meal/Enterprise</td>\n",
       "      <td>Short Trip</td>\n",
       "    </tr>\n",
       "    <tr>\n",
       "      <th>2</th>\n",
       "      <td>12/8/2016/ 3:11 PM</td>\n",
       "      <td>12/8/2016/ 5:11 PM</td>\n",
       "      <td>Business</td>\n",
       "      <td>Jamaica</td>\n",
       "      <td>New York</td>\n",
       "      <td>4.8</td>\n",
       "      <td>Meal/Enterprise</td>\n",
       "      <td>Short Trip</td>\n",
       "    </tr>\n",
       "    <tr>\n",
       "      <th>3</th>\n",
       "      <td>3/9/2016/ 6:17 PM</td>\n",
       "      <td>3/9/2016/ 8:17 PM</td>\n",
       "      <td>Business</td>\n",
       "      <td>Fort Perce</td>\n",
       "      <td>Fort Perce</td>\n",
       "      <td>4.7</td>\n",
       "      <td>Meal/Enterprise</td>\n",
       "      <td>Short Trip</td>\n",
       "    </tr>\n",
       "    <tr>\n",
       "      <th>4</th>\n",
       "      <td>4/8/2016/ 12:01 PM</td>\n",
       "      <td>4/8/2016/ 6:01 PM</td>\n",
       "      <td>Business</td>\n",
       "      <td>Fort Perce</td>\n",
       "      <td>Fort Perce</td>\n",
       "      <td>63.7</td>\n",
       "      <td>Meal/Enterprise</td>\n",
       "      <td>Long Trip</td>\n",
       "    </tr>\n",
       "  </tbody>\n",
       "</table>\n",
       "</div>"
      ],
      "text/plain": [
       "          START_DATE*           END_DATE* CATEGORY*      START*       STOP*  \\\n",
       "0   1/7/2016/ 2:11 PM   1/7/2016/ 4:11 PM  Business     Detroit  Fort Perce   \n",
       "1    6/4/2016/1:15 PM    6/4/2016/4:15 PM  Business  Fort Perce   West Palm   \n",
       "2  12/8/2016/ 3:11 PM  12/8/2016/ 5:11 PM  Business     Jamaica    New York   \n",
       "3   3/9/2016/ 6:17 PM   3/9/2016/ 8:17 PM  Business  Fort Perce  Fort Perce   \n",
       "4  4/8/2016/ 12:01 PM   4/8/2016/ 6:01 PM  Business  Fort Perce  Fort Perce   \n",
       "\n",
       "   MILES*        PURPOSES*   Miles_cat  \n",
       "0     5.1  Meal/Enterprise   Long Trip  \n",
       "1     5.0  Meal/Enterprise  Short Trip  \n",
       "2     4.8  Meal/Enterprise  Short Trip  \n",
       "3     4.7  Meal/Enterprise  Short Trip  \n",
       "4    63.7  Meal/Enterprise   Long Trip  "
      ]
     },
     "execution_count": 33,
     "metadata": {},
     "output_type": "execute_result"
    },
    {
     "ename": "TypeError",
     "evalue": "data type not understood",
     "output_type": "error",
     "traceback": [
      "\u001b[1;31m---------------------------------------------------------------------------\u001b[0m",
      "\u001b[1;31mTypeError\u001b[0m                                 Traceback (most recent call last)",
      "\u001b[1;32m<ipython-input-33-dc9c2896e2c4>\u001b[0m in \u001b[0;36m<module>\u001b[1;34m\u001b[0m\n\u001b[0;32m      1\u001b[0m \u001b[0mdf\u001b[0m\u001b[1;33m.\u001b[0m\u001b[0mhead\u001b[0m\u001b[1;33m(\u001b[0m\u001b[1;36m5\u001b[0m\u001b[1;33m)\u001b[0m\u001b[1;33m\u001b[0m\u001b[1;33m\u001b[0m\u001b[0m\n\u001b[1;32m----> 2\u001b[1;33m \u001b[0mdf\u001b[0m\u001b[1;33m[\u001b[0m\u001b[1;34m\"my_year\"\u001b[0m\u001b[1;33m]\u001b[0m \u001b[1;33m=\u001b[0m \u001b[0mnp\u001b[0m\u001b[1;33m.\u001b[0m\u001b[0marray\u001b[0m\u001b[1;33m(\u001b[0m\u001b[1;36m80\u001b[0m\u001b[1;33m,\u001b[0m\u001b[1;36m90\u001b[0m\u001b[1;33m)\u001b[0m\u001b[1;33m\u001b[0m\u001b[1;33m\u001b[0m\u001b[0m\n\u001b[0m\u001b[0;32m      3\u001b[0m \u001b[0mdf\u001b[0m\u001b[1;33m\u001b[0m\u001b[1;33m\u001b[0m\u001b[0m\n",
      "\u001b[1;31mTypeError\u001b[0m: data type not understood"
     ]
    }
   ],
   "source": [
    "df.head(5)\n",
    "df[\"my_year\"] = np.array(80,90)\n",
    "df"
   ]
  },
  {
   "cell_type": "code",
   "execution_count": null,
   "metadata": {},
   "outputs": [],
   "source": [
    "df[\"Miles_cat\"].value_counts()"
   ]
  },
  {
   "cell_type": "code",
   "execution_count": null,
   "metadata": {},
   "outputs": [],
   "source": [
    "df.loc[df[\"MILES*\"] > 5]"
   ]
  },
  {
   "cell_type": "code",
   "execution_count": null,
   "metadata": {},
   "outputs": [],
   "source": [
    "# Create a new column with the following condition \n",
    "# > 10-long trip\n",
    "# 5-10-medium\n",
    "# < 5-short trip\n",
    "# Search the book-Python for data analysis by Ives"
   ]
  },
  {
   "cell_type": "markdown",
   "metadata": {},
   "source": [
    "# Groupby "
   ]
  },
  {
   "cell_type": "code",
   "execution_count": null,
   "metadata": {},
   "outputs": [],
   "source": [
    "#df.groupby(\"START*\")[\"MILES*\"].agg(\"mean\")#Aggregation\n",
    "df.groupby(\"START*\")[\"MILES*\"].mean().tail()"
   ]
  },
  {
   "cell_type": "code",
   "execution_count": null,
   "metadata": {},
   "outputs": [],
   "source": [
    "df.groupby([\"START*\",\"STOP*\"]).agg([\"mean\", \"sum\"])"
   ]
  },
  {
   "cell_type": "code",
   "execution_count": null,
   "metadata": {
    "scrolled": true
   },
   "outputs": [],
   "source": [
    "df.groupby(\"START*\").agg([\"mean\", \"sum\"])"
   ]
  },
  {
   "cell_type": "code",
   "execution_count": null,
   "metadata": {},
   "outputs": [],
   "source": [
    "#find the most recent & the earliest travelled date and mean distance travelled for each start city"
   ]
  },
  {
   "cell_type": "code",
   "execution_count": null,
   "metadata": {},
   "outputs": [],
   "source": [
    "df = df.iloc[:-1,:]\n",
    "df.tail()\n",
    "df[\"START_DATE*\"] = pd.to_datetime(df[\"START_DATE*\"])\n",
    "df.dtypes\n",
    "#Does not work in latest pandas versions like this one, only the previous pandas versions are the ones it runs in"
   ]
  },
  {
   "cell_type": "code",
   "execution_count": null,
   "metadata": {
    "scrolled": true
   },
   "outputs": [],
   "source": [
    "res = df.groupby(\"START*\").agg({\"MILES*\": [\"mean\"], \"START_DATE*\": [\"min\", \"max\"]})\n",
    "res\n",
    "# The syntax is -groupby(col).agg({col1: [mean], col2[min,max]})\n",
    "res.reset_index(inplace = True)# Either arranges the values in ascending or descending order.\n",
    "res\n",
    "res.columns = [\"START_CITY\", \"AVG_DIST\", \"FIRST_TRIP\", \"LAST_TRIP\"]\n",
    "res\n",
    "res.to_csv(\"Uber Drives 2016\")\n",
    "# A dataframe must have an index you cannot remove/drop the index column"
   ]
  },
  {
   "cell_type": "markdown",
   "metadata": {},
   "source": [
    "# Loops and Function"
   ]
  },
  {
   "cell_type": "code",
   "execution_count": null,
   "metadata": {},
   "outputs": [],
   "source": [
    "# Basic for loop\n",
    "res = [] #an empty list\n",
    "temp = [1,2,3,4]\n",
    "for i in temp:\n",
    "    res.append(i*i)\n",
    "res    "
   ]
  },
  {
   "cell_type": "code",
   "execution_count": null,
   "metadata": {},
   "outputs": [],
   "source": [
    "#Comprehensive way\n",
    "[x*x for x in temp] # List comprehension"
   ]
  },
  {
   "cell_type": "code",
   "execution_count": null,
   "metadata": {},
   "outputs": [],
   "source": [
    "store_sales = pd.read_csv(\"store_sales.csv\")\n",
    "store_sales.head()"
   ]
  },
  {
   "cell_type": "code",
   "execution_count": null,
   "metadata": {},
   "outputs": [],
   "source": [
    "store_sales[\"Jan\"].mean()\n"
   ]
  },
  {
   "cell_type": "code",
   "execution_count": null,
   "metadata": {},
   "outputs": [],
   "source": [
    "store_sales.apply(\"mean\")\n"
   ]
  },
  {
   "cell_type": "code",
   "execution_count": null,
   "metadata": {},
   "outputs": [],
   "source": [
    "store_sales.apply(\"mean\", axis = 1)\n",
    "#0-column\n",
    "#1-row"
   ]
  },
  {
   "cell_type": "code",
   "execution_count": null,
   "metadata": {},
   "outputs": [],
   "source": [
    "store_sales.select_dtypes(include = ['int64', 'float64']).apply(\"mean\")"
   ]
  },
  {
   "cell_type": "code",
   "execution_count": null,
   "metadata": {
    "scrolled": true
   },
   "outputs": [],
   "source": [
    "def add(a,b):\n",
    "    res = a + b\n",
    "    return res\n",
    "add(3,4)   \n",
    "#How to define a function in python"
   ]
  },
  {
   "cell_type": "code",
   "execution_count": null,
   "metadata": {},
   "outputs": [],
   "source": [
    "import numpy as np"
   ]
  },
  {
   "cell_type": "code",
   "execution_count": null,
   "metadata": {},
   "outputs": [],
   "source": [
    "def bonus_func(sales_col):\n",
    "    eligible_values = np.where(sales_col > 10, \"eligible\",\"not_eligible\")\n",
    "    return eligible_values\n",
    "store_sales[\"Jan_bonus\"] = bonus_func(store_sales[\"Jan\"])\n",
    "store_sales.head(n = 10)\n"
   ]
  },
  {
   "cell_type": "code",
   "execution_count": null,
   "metadata": {
    "scrolled": false
   },
   "outputs": [],
   "source": [
    "newdf = store_sales.select_dtypes(include = [\"int64\", \"float64\"]).apply(bonus_func)\n",
    "newdf"
   ]
  },
  {
   "cell_type": "code",
   "execution_count": null,
   "metadata": {},
   "outputs": [],
   "source": [
    "raghu = pd.concat([store_sales,newdf], axis = 1)\n",
    "raghu.shape\n",
    "raghu[\"Jan\"]"
   ]
  },
  {
   "cell_type": "code",
   "execution_count": null,
   "metadata": {
    "scrolled": true
   },
   "outputs": [],
   "source": [
    "import pandas as pd\n",
    "years = [90, 91, 92, 93, 94, 95]#index\n",
    "f1 = {90:8, 91:9, 92:7, 93:8, 94:9, 95:11}#dictionary\n",
    "firm1 = pd.Series(f1,index = years)\n",
    "print(firm1)\n",
    "f2 = {90:14, 92:9, 93:13, 94:5}\n",
    "firm2 = pd.Series(f2,index = years)\n",
    "firm2\n",
    "f3 = {93:10, 94:12, 95:13}\n",
    "firm3 = pd.Series(f3,index = years)\n",
    "firm3\n",
    "df3 = pd.DataFrame(columns = [\"Firm1\",\"Firm2\",\"Firm3\"],index = years)\n",
    "df3\n",
    "df3.Firm1 = firm1\n",
    "df3.Firm2 = firm2\n",
    "df3.Firm3 = firm3\n",
    "df3"
   ]
  },
  {
   "cell_type": "code",
   "execution_count": 34,
   "metadata": {
    "scrolled": true
   },
   "outputs": [
    {
     "ename": "NameError",
     "evalue": "name 'firm2' is not defined",
     "output_type": "error",
     "traceback": [
      "\u001b[1;31m---------------------------------------------------------------------------\u001b[0m",
      "\u001b[1;31mNameError\u001b[0m                                 Traceback (most recent call last)",
      "\u001b[1;32m<ipython-input-34-627f1e24f1c4>\u001b[0m in \u001b[0;36m<module>\u001b[1;34m\u001b[0m\n\u001b[1;32m----> 1\u001b[1;33m \u001b[0mfirm2\u001b[0m\u001b[1;33m\u001b[0m\u001b[1;33m\u001b[0m\u001b[0m\n\u001b[0m",
      "\u001b[1;31mNameError\u001b[0m: name 'firm2' is not defined"
     ]
    }
   ],
   "source": [
    "firm2"
   ]
  },
  {
   "cell_type": "code",
   "execution_count": 35,
   "metadata": {},
   "outputs": [],
   "source": [
    "#df3.dropna()\n",
    "#Dropping NaN"
   ]
  },
  {
   "cell_type": "code",
   "execution_count": 36,
   "metadata": {},
   "outputs": [
    {
     "name": "stderr",
     "output_type": "stream",
     "text": [
      "C:\\Users\\MARX\\anaconda3\\lib\\site-packages\\ipykernel_launcher.py:2: SettingWithCopyWarning: \n",
      "A value is trying to be set on a copy of a slice from a DataFrame\n",
      "\n",
      "See the caveats in the documentation: https://pandas.pydata.org/pandas-docs/stable/user_guide/indexing.html#returning-a-view-versus-a-copy\n",
      "  \n"
     ]
    }
   ],
   "source": [
    "#Dropping from the original dataframe\n",
    "df3.dropna(inplace = True)"
   ]
  },
  {
   "cell_type": "code",
   "execution_count": 37,
   "metadata": {},
   "outputs": [
    {
     "data": {
      "text/html": [
       "<div>\n",
       "<style scoped>\n",
       "    .dataframe tbody tr th:only-of-type {\n",
       "        vertical-align: middle;\n",
       "    }\n",
       "\n",
       "    .dataframe tbody tr th {\n",
       "        vertical-align: top;\n",
       "    }\n",
       "\n",
       "    .dataframe thead th {\n",
       "        text-align: right;\n",
       "    }\n",
       "</style>\n",
       "<table border=\"1\" class=\"dataframe\">\n",
       "  <thead>\n",
       "    <tr style=\"text-align: right;\">\n",
       "      <th></th>\n",
       "      <th>START_DATE*</th>\n",
       "      <th>END_DATE*</th>\n",
       "      <th>CATEGORY*</th>\n",
       "      <th>START*</th>\n",
       "      <th>STOP*</th>\n",
       "      <th>MILES*</th>\n",
       "      <th>PURPOSES*</th>\n",
       "    </tr>\n",
       "  </thead>\n",
       "  <tbody>\n",
       "    <tr>\n",
       "      <th>0</th>\n",
       "      <td>29/1/2016/ 5:14 PM</td>\n",
       "      <td>29/1/2016/ 5:14 PM</td>\n",
       "      <td>Business</td>\n",
       "      <td>Cary</td>\n",
       "      <td>Durham</td>\n",
       "      <td>21.3</td>\n",
       "      <td>Meal/Enterprise</td>\n",
       "    </tr>\n",
       "    <tr>\n",
       "      <th>1</th>\n",
       "      <td>29/1/2016/ 5:14 PM</td>\n",
       "      <td>29/1/2016/ 5:14 PM</td>\n",
       "      <td>Business</td>\n",
       "      <td>New York</td>\n",
       "      <td>Fort Perce</td>\n",
       "      <td>25.9</td>\n",
       "      <td>Meal/Enterprise</td>\n",
       "    </tr>\n",
       "    <tr>\n",
       "      <th>2</th>\n",
       "      <td>4/8/2016/ 12:01 PM</td>\n",
       "      <td>4/8/2016/ 12:01 PM</td>\n",
       "      <td>Business</td>\n",
       "      <td>New York</td>\n",
       "      <td>Fort Perce</td>\n",
       "      <td>16.5</td>\n",
       "      <td>Meal/Enterprise</td>\n",
       "    </tr>\n",
       "    <tr>\n",
       "      <th>3</th>\n",
       "      <td>4/1/2016/ 11:52 AM</td>\n",
       "      <td>4/1/2016/ 11:52 AM</td>\n",
       "      <td>Business</td>\n",
       "      <td>New York</td>\n",
       "      <td>Fort Perce</td>\n",
       "      <td>67.8</td>\n",
       "      <td>Meal/Enterprise</td>\n",
       "    </tr>\n",
       "    <tr>\n",
       "      <th>4</th>\n",
       "      <td>6/7/2016/ 21:11 PM</td>\n",
       "      <td>6/7/2016/ 21:11 PM</td>\n",
       "      <td>Business</td>\n",
       "      <td>New York</td>\n",
       "      <td>Fort Perce</td>\n",
       "      <td>90.9</td>\n",
       "      <td>Meal/Enterprise</td>\n",
       "    </tr>\n",
       "    <tr>\n",
       "      <th>5</th>\n",
       "      <td>6/7/2016/ 5:11 PM</td>\n",
       "      <td>6/7/2016/ 5:11 PM</td>\n",
       "      <td>Business</td>\n",
       "      <td>New York</td>\n",
       "      <td>Fort Perce</td>\n",
       "      <td>12.9</td>\n",
       "      <td>Meal/Enterprise</td>\n",
       "    </tr>\n",
       "    <tr>\n",
       "      <th>6</th>\n",
       "      <td>18/9/2016/ 2:27 PM</td>\n",
       "      <td>18/9/2016/ 2:27 PM</td>\n",
       "      <td>Business</td>\n",
       "      <td>New York</td>\n",
       "      <td>Fort Perce</td>\n",
       "      <td>78.9</td>\n",
       "      <td>Meal/Enterprise</td>\n",
       "    </tr>\n",
       "    <tr>\n",
       "      <th>7</th>\n",
       "      <td>13/4/2016/ 10:31 PM</td>\n",
       "      <td>13/4/2016/ 10:31 PM</td>\n",
       "      <td>Business</td>\n",
       "      <td>New York</td>\n",
       "      <td>Fort Perce</td>\n",
       "      <td>39.7</td>\n",
       "      <td>Meal/Enterprise</td>\n",
       "    </tr>\n",
       "  </tbody>\n",
       "</table>\n",
       "</div>"
      ],
      "text/plain": [
       "           START_DATE*            END_DATE* CATEGORY*    START*       STOP*  \\\n",
       "0   29/1/2016/ 5:14 PM   29/1/2016/ 5:14 PM  Business      Cary      Durham   \n",
       "1   29/1/2016/ 5:14 PM   29/1/2016/ 5:14 PM  Business  New York  Fort Perce   \n",
       "2   4/8/2016/ 12:01 PM   4/8/2016/ 12:01 PM  Business  New York  Fort Perce   \n",
       "3   4/1/2016/ 11:52 AM   4/1/2016/ 11:52 AM  Business  New York  Fort Perce   \n",
       "4   6/7/2016/ 21:11 PM   6/7/2016/ 21:11 PM  Business  New York  Fort Perce   \n",
       "5    6/7/2016/ 5:11 PM    6/7/2016/ 5:11 PM  Business  New York  Fort Perce   \n",
       "6   18/9/2016/ 2:27 PM   18/9/2016/ 2:27 PM  Business  New York  Fort Perce   \n",
       "7  13/4/2016/ 10:31 PM  13/4/2016/ 10:31 PM  Business  New York  Fort Perce   \n",
       "\n",
       "   MILES*        PURPOSES*  \n",
       "0    21.3  Meal/Enterprise  \n",
       "1    25.9  Meal/Enterprise  \n",
       "2    16.5  Meal/Enterprise  \n",
       "3    67.8  Meal/Enterprise  \n",
       "4    90.9  Meal/Enterprise  \n",
       "5    12.9  Meal/Enterprise  \n",
       "6    78.9  Meal/Enterprise  \n",
       "7    39.7  Meal/Enterprise  "
      ]
     },
     "execution_count": 37,
     "metadata": {},
     "output_type": "execute_result"
    }
   ],
   "source": [
    "cleandf3 = df3.dropna(axis = 0)\n",
    "cleandf3\n",
    "#Drop row if any value in the row is NaN"
   ]
  },
  {
   "cell_type": "code",
   "execution_count": 38,
   "metadata": {},
   "outputs": [
    {
     "data": {
      "text/html": [
       "<div>\n",
       "<style scoped>\n",
       "    .dataframe tbody tr th:only-of-type {\n",
       "        vertical-align: middle;\n",
       "    }\n",
       "\n",
       "    .dataframe tbody tr th {\n",
       "        vertical-align: top;\n",
       "    }\n",
       "\n",
       "    .dataframe thead th {\n",
       "        text-align: right;\n",
       "    }\n",
       "</style>\n",
       "<table border=\"1\" class=\"dataframe\">\n",
       "  <thead>\n",
       "    <tr style=\"text-align: right;\">\n",
       "      <th></th>\n",
       "      <th>START_DATE*</th>\n",
       "      <th>END_DATE*</th>\n",
       "      <th>CATEGORY*</th>\n",
       "      <th>START*</th>\n",
       "      <th>STOP*</th>\n",
       "      <th>MILES*</th>\n",
       "      <th>PURPOSES*</th>\n",
       "    </tr>\n",
       "  </thead>\n",
       "  <tbody>\n",
       "    <tr>\n",
       "      <th>0</th>\n",
       "      <td>29/1/2016/ 5:14 PM</td>\n",
       "      <td>29/1/2016/ 5:14 PM</td>\n",
       "      <td>Business</td>\n",
       "      <td>Cary</td>\n",
       "      <td>Durham</td>\n",
       "      <td>21.3</td>\n",
       "      <td>Meal/Enterprise</td>\n",
       "    </tr>\n",
       "    <tr>\n",
       "      <th>1</th>\n",
       "      <td>29/1/2016/ 5:14 PM</td>\n",
       "      <td>29/1/2016/ 5:14 PM</td>\n",
       "      <td>Business</td>\n",
       "      <td>New York</td>\n",
       "      <td>Fort Perce</td>\n",
       "      <td>25.9</td>\n",
       "      <td>Meal/Enterprise</td>\n",
       "    </tr>\n",
       "    <tr>\n",
       "      <th>2</th>\n",
       "      <td>4/8/2016/ 12:01 PM</td>\n",
       "      <td>4/8/2016/ 12:01 PM</td>\n",
       "      <td>Business</td>\n",
       "      <td>New York</td>\n",
       "      <td>Fort Perce</td>\n",
       "      <td>16.5</td>\n",
       "      <td>Meal/Enterprise</td>\n",
       "    </tr>\n",
       "    <tr>\n",
       "      <th>3</th>\n",
       "      <td>4/1/2016/ 11:52 AM</td>\n",
       "      <td>4/1/2016/ 11:52 AM</td>\n",
       "      <td>Business</td>\n",
       "      <td>New York</td>\n",
       "      <td>Fort Perce</td>\n",
       "      <td>67.8</td>\n",
       "      <td>Meal/Enterprise</td>\n",
       "    </tr>\n",
       "    <tr>\n",
       "      <th>4</th>\n",
       "      <td>6/7/2016/ 21:11 PM</td>\n",
       "      <td>6/7/2016/ 21:11 PM</td>\n",
       "      <td>Business</td>\n",
       "      <td>New York</td>\n",
       "      <td>Fort Perce</td>\n",
       "      <td>90.9</td>\n",
       "      <td>Meal/Enterprise</td>\n",
       "    </tr>\n",
       "    <tr>\n",
       "      <th>5</th>\n",
       "      <td>6/7/2016/ 5:11 PM</td>\n",
       "      <td>6/7/2016/ 5:11 PM</td>\n",
       "      <td>Business</td>\n",
       "      <td>New York</td>\n",
       "      <td>Fort Perce</td>\n",
       "      <td>12.9</td>\n",
       "      <td>Meal/Enterprise</td>\n",
       "    </tr>\n",
       "    <tr>\n",
       "      <th>6</th>\n",
       "      <td>18/9/2016/ 2:27 PM</td>\n",
       "      <td>18/9/2016/ 2:27 PM</td>\n",
       "      <td>Business</td>\n",
       "      <td>New York</td>\n",
       "      <td>Fort Perce</td>\n",
       "      <td>78.9</td>\n",
       "      <td>Meal/Enterprise</td>\n",
       "    </tr>\n",
       "    <tr>\n",
       "      <th>7</th>\n",
       "      <td>13/4/2016/ 10:31 PM</td>\n",
       "      <td>13/4/2016/ 10:31 PM</td>\n",
       "      <td>Business</td>\n",
       "      <td>New York</td>\n",
       "      <td>Fort Perce</td>\n",
       "      <td>39.7</td>\n",
       "      <td>Meal/Enterprise</td>\n",
       "    </tr>\n",
       "  </tbody>\n",
       "</table>\n",
       "</div>"
      ],
      "text/plain": [
       "           START_DATE*            END_DATE* CATEGORY*    START*       STOP*  \\\n",
       "0   29/1/2016/ 5:14 PM   29/1/2016/ 5:14 PM  Business      Cary      Durham   \n",
       "1   29/1/2016/ 5:14 PM   29/1/2016/ 5:14 PM  Business  New York  Fort Perce   \n",
       "2   4/8/2016/ 12:01 PM   4/8/2016/ 12:01 PM  Business  New York  Fort Perce   \n",
       "3   4/1/2016/ 11:52 AM   4/1/2016/ 11:52 AM  Business  New York  Fort Perce   \n",
       "4   6/7/2016/ 21:11 PM   6/7/2016/ 21:11 PM  Business  New York  Fort Perce   \n",
       "5    6/7/2016/ 5:11 PM    6/7/2016/ 5:11 PM  Business  New York  Fort Perce   \n",
       "6   18/9/2016/ 2:27 PM   18/9/2016/ 2:27 PM  Business  New York  Fort Perce   \n",
       "7  13/4/2016/ 10:31 PM  13/4/2016/ 10:31 PM  Business  New York  Fort Perce   \n",
       "\n",
       "   MILES*        PURPOSES*  \n",
       "0    21.3  Meal/Enterprise  \n",
       "1    25.9  Meal/Enterprise  \n",
       "2    16.5  Meal/Enterprise  \n",
       "3    67.8  Meal/Enterprise  \n",
       "4    90.9  Meal/Enterprise  \n",
       "5    12.9  Meal/Enterprise  \n",
       "6    78.9  Meal/Enterprise  \n",
       "7    39.7  Meal/Enterprise  "
      ]
     },
     "execution_count": 38,
     "metadata": {},
     "output_type": "execute_result"
    }
   ],
   "source": [
    "df3"
   ]
  },
  {
   "cell_type": "code",
   "execution_count": 39,
   "metadata": {},
   "outputs": [
    {
     "name": "stdout",
     "output_type": "stream",
     "text": [
      "           START_DATE*            END_DATE* CATEGORY*    START*       STOP*  \\\n",
      "0   29/1/2016/ 5:14 PM   29/1/2016/ 5:14 PM  Business      Cary      Durham   \n",
      "1   29/1/2016/ 5:14 PM   29/1/2016/ 5:14 PM  Business  New York  Fort Perce   \n",
      "2   4/8/2016/ 12:01 PM   4/8/2016/ 12:01 PM  Business  New York  Fort Perce   \n",
      "3   4/1/2016/ 11:52 AM   4/1/2016/ 11:52 AM  Business  New York  Fort Perce   \n",
      "4   6/7/2016/ 21:11 PM   6/7/2016/ 21:11 PM  Business  New York  Fort Perce   \n",
      "5    6/7/2016/ 5:11 PM    6/7/2016/ 5:11 PM  Business  New York  Fort Perce   \n",
      "6   18/9/2016/ 2:27 PM   18/9/2016/ 2:27 PM  Business  New York  Fort Perce   \n",
      "7  13/4/2016/ 10:31 PM  13/4/2016/ 10:31 PM  Business  New York  Fort Perce   \n",
      "\n",
      "   MILES*        PURPOSES*  \n",
      "0    21.3  Meal/Enterprise  \n",
      "1    25.9  Meal/Enterprise  \n",
      "2    16.5  Meal/Enterprise  \n",
      "3    67.8  Meal/Enterprise  \n",
      "4    90.9  Meal/Enterprise  \n",
      "5    12.9  Meal/Enterprise  \n",
      "6    78.9  Meal/Enterprise  \n",
      "7    39.7  Meal/Enterprise  \n"
     ]
    },
    {
     "data": {
      "text/html": [
       "<div>\n",
       "<style scoped>\n",
       "    .dataframe tbody tr th:only-of-type {\n",
       "        vertical-align: middle;\n",
       "    }\n",
       "\n",
       "    .dataframe tbody tr th {\n",
       "        vertical-align: top;\n",
       "    }\n",
       "\n",
       "    .dataframe thead th {\n",
       "        text-align: right;\n",
       "    }\n",
       "</style>\n",
       "<table border=\"1\" class=\"dataframe\">\n",
       "  <thead>\n",
       "    <tr style=\"text-align: right;\">\n",
       "      <th></th>\n",
       "      <th>START_DATE*</th>\n",
       "      <th>END_DATE*</th>\n",
       "      <th>CATEGORY*</th>\n",
       "      <th>START*</th>\n",
       "      <th>STOP*</th>\n",
       "      <th>MILES*</th>\n",
       "      <th>PURPOSES*</th>\n",
       "    </tr>\n",
       "  </thead>\n",
       "  <tbody>\n",
       "    <tr>\n",
       "      <th>0</th>\n",
       "      <td>29/1/2016/ 5:14 PM</td>\n",
       "      <td>29/1/2016/ 5:14 PM</td>\n",
       "      <td>Business</td>\n",
       "      <td>Cary</td>\n",
       "      <td>Durham</td>\n",
       "      <td>21.3</td>\n",
       "      <td>Meal/Enterprise</td>\n",
       "    </tr>\n",
       "    <tr>\n",
       "      <th>1</th>\n",
       "      <td>29/1/2016/ 5:14 PM</td>\n",
       "      <td>29/1/2016/ 5:14 PM</td>\n",
       "      <td>Business</td>\n",
       "      <td>New York</td>\n",
       "      <td>Fort Perce</td>\n",
       "      <td>25.9</td>\n",
       "      <td>Meal/Enterprise</td>\n",
       "    </tr>\n",
       "    <tr>\n",
       "      <th>2</th>\n",
       "      <td>4/8/2016/ 12:01 PM</td>\n",
       "      <td>4/8/2016/ 12:01 PM</td>\n",
       "      <td>Business</td>\n",
       "      <td>New York</td>\n",
       "      <td>Fort Perce</td>\n",
       "      <td>16.5</td>\n",
       "      <td>Meal/Enterprise</td>\n",
       "    </tr>\n",
       "    <tr>\n",
       "      <th>3</th>\n",
       "      <td>4/1/2016/ 11:52 AM</td>\n",
       "      <td>4/1/2016/ 11:52 AM</td>\n",
       "      <td>Business</td>\n",
       "      <td>New York</td>\n",
       "      <td>Fort Perce</td>\n",
       "      <td>67.8</td>\n",
       "      <td>Meal/Enterprise</td>\n",
       "    </tr>\n",
       "    <tr>\n",
       "      <th>4</th>\n",
       "      <td>6/7/2016/ 21:11 PM</td>\n",
       "      <td>6/7/2016/ 21:11 PM</td>\n",
       "      <td>Business</td>\n",
       "      <td>New York</td>\n",
       "      <td>Fort Perce</td>\n",
       "      <td>90.9</td>\n",
       "      <td>Meal/Enterprise</td>\n",
       "    </tr>\n",
       "    <tr>\n",
       "      <th>5</th>\n",
       "      <td>6/7/2016/ 5:11 PM</td>\n",
       "      <td>6/7/2016/ 5:11 PM</td>\n",
       "      <td>Business</td>\n",
       "      <td>New York</td>\n",
       "      <td>Fort Perce</td>\n",
       "      <td>12.9</td>\n",
       "      <td>Meal/Enterprise</td>\n",
       "    </tr>\n",
       "    <tr>\n",
       "      <th>6</th>\n",
       "      <td>18/9/2016/ 2:27 PM</td>\n",
       "      <td>18/9/2016/ 2:27 PM</td>\n",
       "      <td>Business</td>\n",
       "      <td>New York</td>\n",
       "      <td>Fort Perce</td>\n",
       "      <td>78.9</td>\n",
       "      <td>Meal/Enterprise</td>\n",
       "    </tr>\n",
       "    <tr>\n",
       "      <th>7</th>\n",
       "      <td>13/4/2016/ 10:31 PM</td>\n",
       "      <td>13/4/2016/ 10:31 PM</td>\n",
       "      <td>Business</td>\n",
       "      <td>New York</td>\n",
       "      <td>Fort Perce</td>\n",
       "      <td>39.7</td>\n",
       "      <td>Meal/Enterprise</td>\n",
       "    </tr>\n",
       "  </tbody>\n",
       "</table>\n",
       "</div>"
      ],
      "text/plain": [
       "           START_DATE*            END_DATE* CATEGORY*    START*       STOP*  \\\n",
       "0   29/1/2016/ 5:14 PM   29/1/2016/ 5:14 PM  Business      Cary      Durham   \n",
       "1   29/1/2016/ 5:14 PM   29/1/2016/ 5:14 PM  Business  New York  Fort Perce   \n",
       "2   4/8/2016/ 12:01 PM   4/8/2016/ 12:01 PM  Business  New York  Fort Perce   \n",
       "3   4/1/2016/ 11:52 AM   4/1/2016/ 11:52 AM  Business  New York  Fort Perce   \n",
       "4   6/7/2016/ 21:11 PM   6/7/2016/ 21:11 PM  Business  New York  Fort Perce   \n",
       "5    6/7/2016/ 5:11 PM    6/7/2016/ 5:11 PM  Business  New York  Fort Perce   \n",
       "6   18/9/2016/ 2:27 PM   18/9/2016/ 2:27 PM  Business  New York  Fort Perce   \n",
       "7  13/4/2016/ 10:31 PM  13/4/2016/ 10:31 PM  Business  New York  Fort Perce   \n",
       "\n",
       "   MILES*        PURPOSES*  \n",
       "0    21.3  Meal/Enterprise  \n",
       "1    25.9  Meal/Enterprise  \n",
       "2    16.5  Meal/Enterprise  \n",
       "3    67.8  Meal/Enterprise  \n",
       "4    90.9  Meal/Enterprise  \n",
       "5    12.9  Meal/Enterprise  \n",
       "6    78.9  Meal/Enterprise  \n",
       "7    39.7  Meal/Enterprise  "
      ]
     },
     "execution_count": 39,
     "metadata": {},
     "output_type": "execute_result"
    }
   ],
   "source": [
    "thresholddf = df3.dropna(axis=1,thresh=5)\n",
    "print(thresholddf)\n",
    "df3\n",
    "#Define threshold. in this case rows having > or = 5 NaN values will be dropped "
   ]
  },
  {
   "cell_type": "code",
   "execution_count": 40,
   "metadata": {},
   "outputs": [
    {
     "data": {
      "text/html": [
       "<div>\n",
       "<style scoped>\n",
       "    .dataframe tbody tr th:only-of-type {\n",
       "        vertical-align: middle;\n",
       "    }\n",
       "\n",
       "    .dataframe tbody tr th {\n",
       "        vertical-align: top;\n",
       "    }\n",
       "\n",
       "    .dataframe thead th {\n",
       "        text-align: right;\n",
       "    }\n",
       "</style>\n",
       "<table border=\"1\" class=\"dataframe\">\n",
       "  <thead>\n",
       "    <tr style=\"text-align: right;\">\n",
       "      <th></th>\n",
       "      <th>START_DATE*</th>\n",
       "      <th>END_DATE*</th>\n",
       "      <th>CATEGORY*</th>\n",
       "      <th>START*</th>\n",
       "      <th>STOP*</th>\n",
       "      <th>MILES*</th>\n",
       "      <th>PURPOSES*</th>\n",
       "    </tr>\n",
       "  </thead>\n",
       "  <tbody>\n",
       "    <tr>\n",
       "      <th>0</th>\n",
       "      <td>29/1/2016/ 5:14 PM</td>\n",
       "      <td>29/1/2016/ 5:14 PM</td>\n",
       "      <td>Business</td>\n",
       "      <td>Cary</td>\n",
       "      <td>Durham</td>\n",
       "      <td>21.3</td>\n",
       "      <td>Meal/Enterprise</td>\n",
       "    </tr>\n",
       "    <tr>\n",
       "      <th>1</th>\n",
       "      <td>29/1/2016/ 5:14 PM</td>\n",
       "      <td>29/1/2016/ 5:14 PM</td>\n",
       "      <td>Business</td>\n",
       "      <td>New York</td>\n",
       "      <td>Fort Perce</td>\n",
       "      <td>25.9</td>\n",
       "      <td>Meal/Enterprise</td>\n",
       "    </tr>\n",
       "    <tr>\n",
       "      <th>2</th>\n",
       "      <td>4/8/2016/ 12:01 PM</td>\n",
       "      <td>4/8/2016/ 12:01 PM</td>\n",
       "      <td>Business</td>\n",
       "      <td>New York</td>\n",
       "      <td>Fort Perce</td>\n",
       "      <td>16.5</td>\n",
       "      <td>Meal/Enterprise</td>\n",
       "    </tr>\n",
       "    <tr>\n",
       "      <th>3</th>\n",
       "      <td>4/1/2016/ 11:52 AM</td>\n",
       "      <td>4/1/2016/ 11:52 AM</td>\n",
       "      <td>Business</td>\n",
       "      <td>New York</td>\n",
       "      <td>Fort Perce</td>\n",
       "      <td>67.8</td>\n",
       "      <td>Meal/Enterprise</td>\n",
       "    </tr>\n",
       "    <tr>\n",
       "      <th>4</th>\n",
       "      <td>6/7/2016/ 21:11 PM</td>\n",
       "      <td>6/7/2016/ 21:11 PM</td>\n",
       "      <td>Business</td>\n",
       "      <td>New York</td>\n",
       "      <td>Fort Perce</td>\n",
       "      <td>90.9</td>\n",
       "      <td>Meal/Enterprise</td>\n",
       "    </tr>\n",
       "    <tr>\n",
       "      <th>5</th>\n",
       "      <td>6/7/2016/ 5:11 PM</td>\n",
       "      <td>6/7/2016/ 5:11 PM</td>\n",
       "      <td>Business</td>\n",
       "      <td>New York</td>\n",
       "      <td>Fort Perce</td>\n",
       "      <td>12.9</td>\n",
       "      <td>Meal/Enterprise</td>\n",
       "    </tr>\n",
       "    <tr>\n",
       "      <th>6</th>\n",
       "      <td>18/9/2016/ 2:27 PM</td>\n",
       "      <td>18/9/2016/ 2:27 PM</td>\n",
       "      <td>Business</td>\n",
       "      <td>New York</td>\n",
       "      <td>Fort Perce</td>\n",
       "      <td>78.9</td>\n",
       "      <td>Meal/Enterprise</td>\n",
       "    </tr>\n",
       "    <tr>\n",
       "      <th>7</th>\n",
       "      <td>13/4/2016/ 10:31 PM</td>\n",
       "      <td>13/4/2016/ 10:31 PM</td>\n",
       "      <td>Business</td>\n",
       "      <td>New York</td>\n",
       "      <td>Fort Perce</td>\n",
       "      <td>39.7</td>\n",
       "      <td>Meal/Enterprise</td>\n",
       "    </tr>\n",
       "  </tbody>\n",
       "</table>\n",
       "</div>"
      ],
      "text/plain": [
       "           START_DATE*            END_DATE* CATEGORY*    START*       STOP*  \\\n",
       "0   29/1/2016/ 5:14 PM   29/1/2016/ 5:14 PM  Business      Cary      Durham   \n",
       "1   29/1/2016/ 5:14 PM   29/1/2016/ 5:14 PM  Business  New York  Fort Perce   \n",
       "2   4/8/2016/ 12:01 PM   4/8/2016/ 12:01 PM  Business  New York  Fort Perce   \n",
       "3   4/1/2016/ 11:52 AM   4/1/2016/ 11:52 AM  Business  New York  Fort Perce   \n",
       "4   6/7/2016/ 21:11 PM   6/7/2016/ 21:11 PM  Business  New York  Fort Perce   \n",
       "5    6/7/2016/ 5:11 PM    6/7/2016/ 5:11 PM  Business  New York  Fort Perce   \n",
       "6   18/9/2016/ 2:27 PM   18/9/2016/ 2:27 PM  Business  New York  Fort Perce   \n",
       "7  13/4/2016/ 10:31 PM  13/4/2016/ 10:31 PM  Business  New York  Fort Perce   \n",
       "\n",
       "   MILES*        PURPOSES*  \n",
       "0    21.3  Meal/Enterprise  \n",
       "1    25.9  Meal/Enterprise  \n",
       "2    16.5  Meal/Enterprise  \n",
       "3    67.8  Meal/Enterprise  \n",
       "4    90.9  Meal/Enterprise  \n",
       "5    12.9  Meal/Enterprise  \n",
       "6    78.9  Meal/Enterprise  \n",
       "7    39.7  Meal/Enterprise  "
      ]
     },
     "execution_count": 40,
     "metadata": {},
     "output_type": "execute_result"
    }
   ],
   "source": [
    "fillna1 = df3.fillna(0)\n",
    "fillna1\n",
    "#Fills all NaN values with 0"
   ]
  },
  {
   "cell_type": "code",
   "execution_count": 41,
   "metadata": {},
   "outputs": [
    {
     "data": {
      "text/html": [
       "<div>\n",
       "<style scoped>\n",
       "    .dataframe tbody tr th:only-of-type {\n",
       "        vertical-align: middle;\n",
       "    }\n",
       "\n",
       "    .dataframe tbody tr th {\n",
       "        vertical-align: top;\n",
       "    }\n",
       "\n",
       "    .dataframe thead th {\n",
       "        text-align: right;\n",
       "    }\n",
       "</style>\n",
       "<table border=\"1\" class=\"dataframe\">\n",
       "  <thead>\n",
       "    <tr style=\"text-align: right;\">\n",
       "      <th></th>\n",
       "      <th>START_DATE*</th>\n",
       "      <th>END_DATE*</th>\n",
       "      <th>CATEGORY*</th>\n",
       "      <th>START*</th>\n",
       "      <th>STOP*</th>\n",
       "      <th>MILES*</th>\n",
       "      <th>PURPOSES*</th>\n",
       "    </tr>\n",
       "  </thead>\n",
       "  <tbody>\n",
       "    <tr>\n",
       "      <th>0</th>\n",
       "      <td>29/1/2016/ 5:14 PM</td>\n",
       "      <td>29/1/2016/ 5:14 PM</td>\n",
       "      <td>Business</td>\n",
       "      <td>Cary</td>\n",
       "      <td>Durham</td>\n",
       "      <td>21.3</td>\n",
       "      <td>Meal/Enterprise</td>\n",
       "    </tr>\n",
       "    <tr>\n",
       "      <th>1</th>\n",
       "      <td>29/1/2016/ 5:14 PM</td>\n",
       "      <td>29/1/2016/ 5:14 PM</td>\n",
       "      <td>Business</td>\n",
       "      <td>New York</td>\n",
       "      <td>Fort Perce</td>\n",
       "      <td>25.9</td>\n",
       "      <td>Meal/Enterprise</td>\n",
       "    </tr>\n",
       "    <tr>\n",
       "      <th>2</th>\n",
       "      <td>4/8/2016/ 12:01 PM</td>\n",
       "      <td>4/8/2016/ 12:01 PM</td>\n",
       "      <td>Business</td>\n",
       "      <td>New York</td>\n",
       "      <td>Fort Perce</td>\n",
       "      <td>16.5</td>\n",
       "      <td>Meal/Enterprise</td>\n",
       "    </tr>\n",
       "    <tr>\n",
       "      <th>3</th>\n",
       "      <td>4/1/2016/ 11:52 AM</td>\n",
       "      <td>4/1/2016/ 11:52 AM</td>\n",
       "      <td>Business</td>\n",
       "      <td>New York</td>\n",
       "      <td>Fort Perce</td>\n",
       "      <td>67.8</td>\n",
       "      <td>Meal/Enterprise</td>\n",
       "    </tr>\n",
       "    <tr>\n",
       "      <th>4</th>\n",
       "      <td>6/7/2016/ 21:11 PM</td>\n",
       "      <td>6/7/2016/ 21:11 PM</td>\n",
       "      <td>Business</td>\n",
       "      <td>New York</td>\n",
       "      <td>Fort Perce</td>\n",
       "      <td>90.9</td>\n",
       "      <td>Meal/Enterprise</td>\n",
       "    </tr>\n",
       "    <tr>\n",
       "      <th>5</th>\n",
       "      <td>6/7/2016/ 5:11 PM</td>\n",
       "      <td>6/7/2016/ 5:11 PM</td>\n",
       "      <td>Business</td>\n",
       "      <td>New York</td>\n",
       "      <td>Fort Perce</td>\n",
       "      <td>12.9</td>\n",
       "      <td>Meal/Enterprise</td>\n",
       "    </tr>\n",
       "    <tr>\n",
       "      <th>6</th>\n",
       "      <td>18/9/2016/ 2:27 PM</td>\n",
       "      <td>18/9/2016/ 2:27 PM</td>\n",
       "      <td>Business</td>\n",
       "      <td>New York</td>\n",
       "      <td>Fort Perce</td>\n",
       "      <td>78.9</td>\n",
       "      <td>Meal/Enterprise</td>\n",
       "    </tr>\n",
       "    <tr>\n",
       "      <th>7</th>\n",
       "      <td>13/4/2016/ 10:31 PM</td>\n",
       "      <td>13/4/2016/ 10:31 PM</td>\n",
       "      <td>Business</td>\n",
       "      <td>New York</td>\n",
       "      <td>Fort Perce</td>\n",
       "      <td>39.7</td>\n",
       "      <td>Meal/Enterprise</td>\n",
       "    </tr>\n",
       "  </tbody>\n",
       "</table>\n",
       "</div>"
      ],
      "text/plain": [
       "           START_DATE*            END_DATE* CATEGORY*    START*       STOP*  \\\n",
       "0   29/1/2016/ 5:14 PM   29/1/2016/ 5:14 PM  Business      Cary      Durham   \n",
       "1   29/1/2016/ 5:14 PM   29/1/2016/ 5:14 PM  Business  New York  Fort Perce   \n",
       "2   4/8/2016/ 12:01 PM   4/8/2016/ 12:01 PM  Business  New York  Fort Perce   \n",
       "3   4/1/2016/ 11:52 AM   4/1/2016/ 11:52 AM  Business  New York  Fort Perce   \n",
       "4   6/7/2016/ 21:11 PM   6/7/2016/ 21:11 PM  Business  New York  Fort Perce   \n",
       "5    6/7/2016/ 5:11 PM    6/7/2016/ 5:11 PM  Business  New York  Fort Perce   \n",
       "6   18/9/2016/ 2:27 PM   18/9/2016/ 2:27 PM  Business  New York  Fort Perce   \n",
       "7  13/4/2016/ 10:31 PM  13/4/2016/ 10:31 PM  Business  New York  Fort Perce   \n",
       "\n",
       "   MILES*        PURPOSES*  \n",
       "0    21.3  Meal/Enterprise  \n",
       "1    25.9  Meal/Enterprise  \n",
       "2    16.5  Meal/Enterprise  \n",
       "3    67.8  Meal/Enterprise  \n",
       "4    90.9  Meal/Enterprise  \n",
       "5    12.9  Meal/Enterprise  \n",
       "6    78.9  Meal/Enterprise  \n",
       "7    39.7  Meal/Enterprise  "
      ]
     },
     "execution_count": 41,
     "metadata": {},
     "output_type": "execute_result"
    }
   ],
   "source": [
    "fillna5 = df3.fillna(df3.mean())\n",
    "fillna5\n",
    "# Substitutes the empty values(NaN) with the mean of the firm in concern"
   ]
  },
  {
   "cell_type": "code",
   "execution_count": 42,
   "metadata": {},
   "outputs": [
    {
     "name": "stdout",
     "output_type": "stream",
     "text": [
      "MILES*    44.2375\n",
      "dtype: float64\n",
      "           START_DATE*            END_DATE* CATEGORY*    START*       STOP*  \\\n",
      "0   29/1/2016/ 5:14 PM   29/1/2016/ 5:14 PM  Business      Cary      Durham   \n",
      "1   29/1/2016/ 5:14 PM   29/1/2016/ 5:14 PM  Business  New York  Fort Perce   \n",
      "2   4/8/2016/ 12:01 PM   4/8/2016/ 12:01 PM  Business  New York  Fort Perce   \n",
      "3   4/1/2016/ 11:52 AM   4/1/2016/ 11:52 AM  Business  New York  Fort Perce   \n",
      "4   6/7/2016/ 21:11 PM   6/7/2016/ 21:11 PM  Business  New York  Fort Perce   \n",
      "5    6/7/2016/ 5:11 PM    6/7/2016/ 5:11 PM  Business  New York  Fort Perce   \n",
      "6   18/9/2016/ 2:27 PM   18/9/2016/ 2:27 PM  Business  New York  Fort Perce   \n",
      "7  13/4/2016/ 10:31 PM  13/4/2016/ 10:31 PM  Business  New York  Fort Perce   \n",
      "\n",
      "   MILES*        PURPOSES*  \n",
      "0    21.3  Meal/Enterprise  \n",
      "1    25.9  Meal/Enterprise  \n",
      "2    16.5  Meal/Enterprise  \n",
      "3    67.8  Meal/Enterprise  \n",
      "4    90.9  Meal/Enterprise  \n",
      "5    12.9  Meal/Enterprise  \n",
      "6    78.9  Meal/Enterprise  \n",
      "7    39.7  Meal/Enterprise  \n"
     ]
    }
   ],
   "source": [
    "print(df3.mean())\n",
    "print(df3)\n"
   ]
  },
  {
   "cell_type": "markdown",
   "metadata": {},
   "source": [
    "# Introduction to Numpy"
   ]
  },
  {
   "cell_type": "code",
   "execution_count": 43,
   "metadata": {},
   "outputs": [
    {
     "name": "stdout",
     "output_type": "stream",
     "text": [
      "[1, 2, 3, 4, 5, 10, 20, 30, 40]\n"
     ]
    }
   ],
   "source": [
    "a = [1,2,3,4,5]\n",
    "b = [10,20,30,40]\n",
    "print(a + b)\n",
    "#it will concatenate the lists"
   ]
  },
  {
   "cell_type": "code",
   "execution_count": 44,
   "metadata": {},
   "outputs": [
    {
     "name": "stdout",
     "output_type": "stream",
     "text": [
      "[1, 2, 3, 4, 5]\n",
      "[10, 20, 30, 40]\n",
      "[11 22 33 44 55]\n",
      "[ 6  7  8  9 10]\n"
     ]
    }
   ],
   "source": [
    "f = np.array((1,2,3,4,5))\n",
    "g = np.array((10,20,30,40,50))\n",
    "print(a)\n",
    "print(b)\n",
    "print(f + g)\n",
    "print(f + 5)\n",
    "#initializes an array a and assigns values to it then\n",
    "#initializes another array b\n",
    "#if your creating a numpy array the dimension has to be exactly the same"
   ]
  },
  {
   "cell_type": "code",
   "execution_count": 45,
   "metadata": {},
   "outputs": [
    {
     "name": "stdout",
     "output_type": "stream",
     "text": [
      "['1' '2' '3' '4' '5' 'Raghu']\n"
     ]
    },
    {
     "data": {
      "text/plain": [
       "dtype('<U11')"
      ]
     },
     "execution_count": 45,
     "metadata": {},
     "output_type": "execute_result"
    }
   ],
   "source": [
    "f = np.array((1,2,3,4,5,\"Raghu\"))\n",
    "g = np.array((10,20,30,40,50))\n",
    "print(f)\n",
    "f.dtype"
   ]
  },
  {
   "cell_type": "code",
   "execution_count": 46,
   "metadata": {},
   "outputs": [
    {
     "name": "stdout",
     "output_type": "stream",
     "text": [
      "[1.  2.  3.  4.  5.5]\n"
     ]
    },
    {
     "data": {
      "text/plain": [
       "dtype('float64')"
      ]
     },
     "execution_count": 46,
     "metadata": {},
     "output_type": "execute_result"
    }
   ],
   "source": [
    "f = np.array((1,2,3,4,5.5))\n",
    "g = np.array((10,20,30,40,50))\n",
    "print(f)\n",
    "f.dtype"
   ]
  },
  {
   "cell_type": "code",
   "execution_count": 47,
   "metadata": {},
   "outputs": [
    {
     "name": "stdout",
     "output_type": "stream",
     "text": [
      "array:  [0 1 2 3 4 5 6 7 8 9]\n",
      "\n"
     ]
    }
   ],
   "source": [
    "c = np.arange(10)\n",
    "print('array: ',c)\n",
    "print()\n",
    "#arange function here works as a sequence or counter in\n",
    "#generates a range of numbers from 0 to 9, it will never include the last number"
   ]
  },
  {
   "cell_type": "code",
   "execution_count": 48,
   "metadata": {},
   "outputs": [
    {
     "name": "stdout",
     "output_type": "stream",
     "text": [
      "anarray:  [ 5 10 15 20 25 30 35 40 45 50 55]\n",
      "\n"
     ]
    }
   ],
   "source": [
    "anarray = np.arange(5,56,5)\n",
    "print('anarray: ', anarray)\n",
    "print()\n",
    "#5 is the starting point ,56 is the ending point and 5 is the step function\n",
    "#still it will never include the last number"
   ]
  },
  {
   "cell_type": "code",
   "execution_count": 49,
   "metadata": {
    "scrolled": true
   },
   "outputs": [
    {
     "name": "stdout",
     "output_type": "stream",
     "text": [
      "onemorearray:  [ 30.   47.5  65.   82.5 100. ]\n"
     ]
    }
   ],
   "source": [
    "onemorearray = np.linspace(30,100,5)\n",
    "print('onemorearray: ', onemorearray)\n",
    "#linspace function here creates 5 equidistant/numbers\n",
    "# begins from 30 and ends with 100(this two numbners are fixed), the 5 divides the distance between the numbers equidistantly and evenly spaced"
   ]
  },
  {
   "cell_type": "markdown",
   "metadata": {},
   "source": [
    "## Dimensions"
   ]
  },
  {
   "cell_type": "code",
   "execution_count": 50,
   "metadata": {},
   "outputs": [],
   "source": [
    "# 0 dimension-a dot\n",
    "# 1 dimension-np.array()\n",
    "# 2 dimension-Matrix\n",
    "# 3.....-Matrix"
   ]
  },
  {
   "cell_type": "code",
   "execution_count": 51,
   "metadata": {
    "scrolled": false
   },
   "outputs": [
    {
     "data": {
      "text/plain": [
       "array([  32,   45,  123,  756, 2123,    1,    2,    3,    4,    5,    6,\n",
       "          7,    5,    4,    3,    2,    1,   78,   89,   87,   76,   54,\n",
       "         31,   42])"
      ]
     },
     "execution_count": 51,
     "metadata": {},
     "output_type": "execute_result"
    },
    {
     "data": {
      "text/plain": [
       "array([[  32,   45,  123],\n",
       "       [ 756, 2123,    1],\n",
       "       [   2,    3,    4],\n",
       "       [   5,    6,    7],\n",
       "       [   5,    4,    3],\n",
       "       [   2,    1,   78],\n",
       "       [  89,   87,   76],\n",
       "       [  54,   31,   42]])"
      ]
     },
     "execution_count": 51,
     "metadata": {},
     "output_type": "execute_result"
    },
    {
     "name": "stdout",
     "output_type": "stream",
     "text": [
      "[[[  32   45  123  756 2123    1]\n",
      "  [   2    3    4    5    6    7]]\n",
      "\n",
      " [[   5    4    3    2    1   78]\n",
      "  [  89   87   76   54   31   42]]]\n",
      "[[[[  32]\n",
      "   [  45]\n",
      "   [ 123]\n",
      "   [ 756]\n",
      "   [2123]\n",
      "   [   1]]\n",
      "\n",
      "  [[   2]\n",
      "   [   3]\n",
      "   [   4]\n",
      "   [   5]\n",
      "   [   6]\n",
      "   [   7]]]\n",
      "\n",
      "\n",
      " [[[   5]\n",
      "   [   4]\n",
      "   [   3]\n",
      "   [   2]\n",
      "   [   1]\n",
      "   [  78]]\n",
      "\n",
      "  [[  89]\n",
      "   [  87]\n",
      "   [  76]\n",
      "   [  54]\n",
      "   [  31]\n",
      "   [  42]]]]\n",
      "[[ True False False]\n",
      " [ True False False]\n",
      " [ True False  True]\n",
      " [False  True False]\n",
      " [False  True False]\n",
      " [ True False  True]\n",
      " [False False  True]\n",
      " [ True False  True]]\n",
      "bool\n"
     ]
    }
   ],
   "source": [
    "data = np.array((32,45,123,756,2123,1,2,3,4,5,6,7,5,4,3,2,1,78,89,87,76,54,31,42))\n",
    "data\n",
    "\n",
    "data1 = data.reshape(8,3)\n",
    "data1\n",
    "\n",
    "data2 = data.reshape(2,2,6)\n",
    "print(data2)#2 rows, 2pairs, 6columns(3 dimensional)\n",
    "\n",
    "data3 = data.reshape(2,2,6,1)\n",
    "print(data3)#4 dimensional\n",
    "\n",
    "even_data = (data1 % 2 == 0)#even numbers\n",
    "print(even_data)\n",
    "print(even_data.dtype)"
   ]
  },
  {
   "cell_type": "code",
   "execution_count": 52,
   "metadata": {},
   "outputs": [
    {
     "data": {
      "text/plain": [
       "array([[1., 1., 1., 1., 1., 1., 1., 1., 1.],\n",
       "       [1., 1., 1., 1., 1., 1., 1., 1., 1.],\n",
       "       [1., 1., 1., 1., 1., 1., 1., 1., 1.],\n",
       "       [1., 1., 1., 1., 1., 1., 1., 1., 1.],\n",
       "       [1., 1., 1., 1., 1., 1., 1., 1., 1.]])"
      ]
     },
     "execution_count": 52,
     "metadata": {},
     "output_type": "execute_result"
    }
   ],
   "source": [
    "np.ones((5,9))\n",
    "# Make a 45, 1 numbered single dimensional array"
   ]
  },
  {
   "cell_type": "code",
   "execution_count": 53,
   "metadata": {},
   "outputs": [
    {
     "data": {
      "text/plain": [
       "array([8., 8., 8., 8., 8., 8., 8., 8., 8., 8., 8., 8., 8., 8., 8., 8., 8.,\n",
       "       8., 8., 8., 8., 8., 8., 8., 8., 8., 8., 8., 8., 8.])"
      ]
     },
     "execution_count": 53,
     "metadata": {},
     "output_type": "execute_result"
    }
   ],
   "source": [
    "np.ones(30) + 7\n",
    "# Make 30, 1 numbered single dimensional array"
   ]
  },
  {
   "cell_type": "markdown",
   "metadata": {},
   "source": [
    "#### Identity  matrix"
   ]
  },
  {
   "cell_type": "code",
   "execution_count": 54,
   "metadata": {},
   "outputs": [],
   "source": [
    "#1 0 0 0\n",
    "#0 1 0 0\n",
    "#0 0 1 0\n",
    "#0 0 0 1"
   ]
  },
  {
   "cell_type": "code",
   "execution_count": 55,
   "metadata": {},
   "outputs": [
    {
     "data": {
      "text/plain": [
       "array([[1., 0., 0., 0., 0.],\n",
       "       [0., 1., 0., 0., 0.],\n",
       "       [0., 0., 1., 0., 0.],\n",
       "       [0., 0., 0., 1., 0.],\n",
       "       [0., 0., 0., 0., 1.]])"
      ]
     },
     "execution_count": 55,
     "metadata": {},
     "output_type": "execute_result"
    }
   ],
   "source": [
    "np.eye(5)"
   ]
  },
  {
   "cell_type": "code",
   "execution_count": 56,
   "metadata": {},
   "outputs": [
    {
     "data": {
      "text/plain": [
       "array([[1., 0., 0., 0., 0., 0.],\n",
       "       [0., 1., 0., 0., 0., 0.],\n",
       "       [0., 0., 1., 0., 0., 0.],\n",
       "       [0., 0., 0., 1., 0., 0.],\n",
       "       [0., 0., 0., 0., 1., 0.]])"
      ]
     },
     "execution_count": 56,
     "metadata": {},
     "output_type": "execute_result"
    }
   ],
   "source": [
    "np.eye(5,6)\n",
    "#This will not create an identity matrix"
   ]
  },
  {
   "cell_type": "code",
   "execution_count": 57,
   "metadata": {},
   "outputs": [
    {
     "data": {
      "text/plain": [
       "array([[1, 0, 0, 0, 0, 0],\n",
       "       [0, 3, 0, 0, 0, 0],\n",
       "       [0, 0, 5, 0, 0, 0],\n",
       "       [0, 0, 0, 3, 0, 0],\n",
       "       [0, 0, 0, 0, 4, 0],\n",
       "       [0, 0, 0, 0, 0, 5]])"
      ]
     },
     "execution_count": 57,
     "metadata": {},
     "output_type": "execute_result"
    }
   ],
   "source": [
    "np.diag([1,3,5,3,4,5])\n",
    "# populate the diagonal elements only"
   ]
  },
  {
   "cell_type": "markdown",
   "metadata": {},
   "source": [
    "# Statistics vs Machine learning"
   ]
  },
  {
   "cell_type": "code",
   "execution_count": 58,
   "metadata": {},
   "outputs": [],
   "source": [
    "# The statistical way is to solve the problem then formulate the data to solve the problem.\n",
    "# The Machine learning way is that here is the data, tell me the what the data says(Find the solution from the data)\n",
    "\n",
    "# In machine learning the data is cheap but the question is expensive (your paid for answering the question)\n",
    "# In statistics the question is cheap but the data is expensive (your paid for formulating the data)"
   ]
  },
  {
   "cell_type": "markdown",
   "metadata": {},
   "source": [
    "# Descriptive analytics"
   ]
  },
  {
   "cell_type": "markdown",
   "metadata": {},
   "source": [
    "##### The market research team at AdRight is assigned the task to identify the profile of the typical customer for each treadmill product offered by CardioGood Fitness. The market research team decides to investigate whether there are differences across the product lines with respect to customer characteristics. The team decides to collect data on individuals who purchased a treadmill at a CardioGood Fitness retail store during the prior three months. The data are stored in the CardioGood Fitness csv file.  \n"
   ]
  },
  {
   "cell_type": "markdown",
   "metadata": {},
   "source": [
    "### The team identifies the following customer variables to study"
   ]
  },
  {
   "cell_type": "code",
   "execution_count": 59,
   "metadata": {},
   "outputs": [],
   "source": [
    "#. product purchased TM195, TM498 or TMT98\n",
    "#. gender\n",
    "#. age in years \n",
    "#. education in years \n",
    "#. relationship status single or partnered\n",
    "#. annual household income\n",
    "#. average number of times the customer plans to use the treadmill each week\n",
    "#. average number of miles the customer expects to walk/run each week\n",
    "#. and self-rated fitness on a 1 to 5 scale where 1 is poor shape and 5 is excellent shape"
   ]
  },
  {
   "cell_type": "markdown",
   "metadata": {},
   "source": [
    "## Perform descriptive statistics to create a customer profile for each CardioGood Fitness treadmill product line"
   ]
  },
  {
   "cell_type": "code",
   "execution_count": 60,
   "metadata": {},
   "outputs": [],
   "source": [
    "import numpy as np\n",
    "import pandas as pd"
   ]
  },
  {
   "cell_type": "code",
   "execution_count": 61,
   "metadata": {},
   "outputs": [],
   "source": [
    "mydata = pd.read_csv(\"CardioGood Fitness.csv\")"
   ]
  },
  {
   "cell_type": "code",
   "execution_count": 62,
   "metadata": {},
   "outputs": [
    {
     "data": {
      "text/html": [
       "<div>\n",
       "<style scoped>\n",
       "    .dataframe tbody tr th:only-of-type {\n",
       "        vertical-align: middle;\n",
       "    }\n",
       "\n",
       "    .dataframe tbody tr th {\n",
       "        vertical-align: top;\n",
       "    }\n",
       "\n",
       "    .dataframe thead th {\n",
       "        text-align: right;\n",
       "    }\n",
       "</style>\n",
       "<table border=\"1\" class=\"dataframe\">\n",
       "  <thead>\n",
       "    <tr style=\"text-align: right;\">\n",
       "      <th></th>\n",
       "      <th>Product</th>\n",
       "      <th>Age</th>\n",
       "      <th>Gender</th>\n",
       "      <th>Education</th>\n",
       "      <th>Marital status</th>\n",
       "      <th>Usage</th>\n",
       "      <th>Fitness</th>\n",
       "      <th>Income</th>\n",
       "      <th>Miles</th>\n",
       "    </tr>\n",
       "  </thead>\n",
       "  <tbody>\n",
       "    <tr>\n",
       "      <th>0</th>\n",
       "      <td>TM195</td>\n",
       "      <td>18</td>\n",
       "      <td>Male</td>\n",
       "      <td>14</td>\n",
       "      <td>Single</td>\n",
       "      <td>3</td>\n",
       "      <td>4</td>\n",
       "      <td>29062</td>\n",
       "      <td>112</td>\n",
       "    </tr>\n",
       "    <tr>\n",
       "      <th>1</th>\n",
       "      <td>TM195</td>\n",
       "      <td>19</td>\n",
       "      <td>Male</td>\n",
       "      <td>15</td>\n",
       "      <td>Single</td>\n",
       "      <td>2</td>\n",
       "      <td>3</td>\n",
       "      <td>31836</td>\n",
       "      <td>75</td>\n",
       "    </tr>\n",
       "    <tr>\n",
       "      <th>2</th>\n",
       "      <td>TM195</td>\n",
       "      <td>19</td>\n",
       "      <td>Female</td>\n",
       "      <td>14</td>\n",
       "      <td>Partnered</td>\n",
       "      <td>4</td>\n",
       "      <td>3</td>\n",
       "      <td>30000</td>\n",
       "      <td>66</td>\n",
       "    </tr>\n",
       "    <tr>\n",
       "      <th>3</th>\n",
       "      <td>TM195</td>\n",
       "      <td>19</td>\n",
       "      <td>Male</td>\n",
       "      <td>12</td>\n",
       "      <td>Single</td>\n",
       "      <td>3</td>\n",
       "      <td>3</td>\n",
       "      <td>32973</td>\n",
       "      <td>85</td>\n",
       "    </tr>\n",
       "    <tr>\n",
       "      <th>4</th>\n",
       "      <td>TM498</td>\n",
       "      <td>20</td>\n",
       "      <td>Male</td>\n",
       "      <td>13</td>\n",
       "      <td>Partnered</td>\n",
       "      <td>5</td>\n",
       "      <td>2</td>\n",
       "      <td>45247</td>\n",
       "      <td>47</td>\n",
       "    </tr>\n",
       "  </tbody>\n",
       "</table>\n",
       "</div>"
      ],
      "text/plain": [
       "  Product  Age  Gender  Education Marital status  Usage  Fitness  Income  \\\n",
       "0   TM195   18    Male         14         Single      3        4   29062   \n",
       "1   TM195   19    Male         15         Single      2        3   31836   \n",
       "2   TM195   19  Female         14      Partnered      4        3   30000   \n",
       "3   TM195   19    Male         12         Single      3        3   32973   \n",
       "4   TM498   20    Male         13      Partnered      5        2   45247   \n",
       "\n",
       "   Miles  \n",
       "0    112  \n",
       "1     75  \n",
       "2     66  \n",
       "3     85  \n",
       "4     47  "
      ]
     },
     "execution_count": 62,
     "metadata": {},
     "output_type": "execute_result"
    }
   ],
   "source": [
    "mydata.head()"
   ]
  },
  {
   "cell_type": "code",
   "execution_count": 63,
   "metadata": {
    "scrolled": false
   },
   "outputs": [
    {
     "data": {
      "text/html": [
       "<div>\n",
       "<style scoped>\n",
       "    .dataframe tbody tr th:only-of-type {\n",
       "        vertical-align: middle;\n",
       "    }\n",
       "\n",
       "    .dataframe tbody tr th {\n",
       "        vertical-align: top;\n",
       "    }\n",
       "\n",
       "    .dataframe thead th {\n",
       "        text-align: right;\n",
       "    }\n",
       "</style>\n",
       "<table border=\"1\" class=\"dataframe\">\n",
       "  <thead>\n",
       "    <tr style=\"text-align: right;\">\n",
       "      <th></th>\n",
       "      <th>Product</th>\n",
       "      <th>Age</th>\n",
       "      <th>Gender</th>\n",
       "      <th>Education</th>\n",
       "      <th>Marital status</th>\n",
       "      <th>Usage</th>\n",
       "      <th>Fitness</th>\n",
       "      <th>Income</th>\n",
       "      <th>Miles</th>\n",
       "    </tr>\n",
       "  </thead>\n",
       "  <tbody>\n",
       "    <tr>\n",
       "      <th>count</th>\n",
       "      <td>95</td>\n",
       "      <td>95.000000</td>\n",
       "      <td>95</td>\n",
       "      <td>95.000000</td>\n",
       "      <td>95</td>\n",
       "      <td>95.000000</td>\n",
       "      <td>95.000000</td>\n",
       "      <td>95.000000</td>\n",
       "      <td>95.000000</td>\n",
       "    </tr>\n",
       "    <tr>\n",
       "      <th>unique</th>\n",
       "      <td>3</td>\n",
       "      <td>NaN</td>\n",
       "      <td>2</td>\n",
       "      <td>NaN</td>\n",
       "      <td>2</td>\n",
       "      <td>NaN</td>\n",
       "      <td>NaN</td>\n",
       "      <td>NaN</td>\n",
       "      <td>NaN</td>\n",
       "    </tr>\n",
       "    <tr>\n",
       "      <th>top</th>\n",
       "      <td>TM195</td>\n",
       "      <td>NaN</td>\n",
       "      <td>Male</td>\n",
       "      <td>NaN</td>\n",
       "      <td>Partnered</td>\n",
       "      <td>NaN</td>\n",
       "      <td>NaN</td>\n",
       "      <td>NaN</td>\n",
       "      <td>NaN</td>\n",
       "    </tr>\n",
       "    <tr>\n",
       "      <th>freq</th>\n",
       "      <td>42</td>\n",
       "      <td>NaN</td>\n",
       "      <td>52</td>\n",
       "      <td>NaN</td>\n",
       "      <td>56</td>\n",
       "      <td>NaN</td>\n",
       "      <td>NaN</td>\n",
       "      <td>NaN</td>\n",
       "      <td>NaN</td>\n",
       "    </tr>\n",
       "    <tr>\n",
       "      <th>mean</th>\n",
       "      <td>NaN</td>\n",
       "      <td>30.126316</td>\n",
       "      <td>NaN</td>\n",
       "      <td>16.936842</td>\n",
       "      <td>NaN</td>\n",
       "      <td>3.378947</td>\n",
       "      <td>3.726316</td>\n",
       "      <td>35057.852632</td>\n",
       "      <td>59.663158</td>\n",
       "    </tr>\n",
       "    <tr>\n",
       "      <th>std</th>\n",
       "      <td>NaN</td>\n",
       "      <td>10.592292</td>\n",
       "      <td>NaN</td>\n",
       "      <td>4.239657</td>\n",
       "      <td>NaN</td>\n",
       "      <td>1.264734</td>\n",
       "      <td>1.439874</td>\n",
       "      <td>13123.995551</td>\n",
       "      <td>27.562930</td>\n",
       "    </tr>\n",
       "    <tr>\n",
       "      <th>min</th>\n",
       "      <td>NaN</td>\n",
       "      <td>18.000000</td>\n",
       "      <td>NaN</td>\n",
       "      <td>11.000000</td>\n",
       "      <td>NaN</td>\n",
       "      <td>1.000000</td>\n",
       "      <td>2.000000</td>\n",
       "      <td>8062.000000</td>\n",
       "      <td>15.000000</td>\n",
       "    </tr>\n",
       "    <tr>\n",
       "      <th>25%</th>\n",
       "      <td>NaN</td>\n",
       "      <td>20.000000</td>\n",
       "      <td>NaN</td>\n",
       "      <td>14.000000</td>\n",
       "      <td>NaN</td>\n",
       "      <td>2.000000</td>\n",
       "      <td>3.000000</td>\n",
       "      <td>29062.000000</td>\n",
       "      <td>41.000000</td>\n",
       "    </tr>\n",
       "    <tr>\n",
       "      <th>50%</th>\n",
       "      <td>NaN</td>\n",
       "      <td>28.000000</td>\n",
       "      <td>NaN</td>\n",
       "      <td>15.000000</td>\n",
       "      <td>NaN</td>\n",
       "      <td>3.000000</td>\n",
       "      <td>3.000000</td>\n",
       "      <td>31973.000000</td>\n",
       "      <td>53.000000</td>\n",
       "    </tr>\n",
       "    <tr>\n",
       "      <th>75%</th>\n",
       "      <td>NaN</td>\n",
       "      <td>39.000000</td>\n",
       "      <td>NaN</td>\n",
       "      <td>19.000000</td>\n",
       "      <td>NaN</td>\n",
       "      <td>4.000000</td>\n",
       "      <td>4.000000</td>\n",
       "      <td>37668.500000</td>\n",
       "      <td>80.500000</td>\n",
       "    </tr>\n",
       "    <tr>\n",
       "      <th>max</th>\n",
       "      <td>NaN</td>\n",
       "      <td>50.000000</td>\n",
       "      <td>NaN</td>\n",
       "      <td>32.000000</td>\n",
       "      <td>NaN</td>\n",
       "      <td>8.000000</td>\n",
       "      <td>8.000000</td>\n",
       "      <td>82973.000000</td>\n",
       "      <td>123.000000</td>\n",
       "    </tr>\n",
       "  </tbody>\n",
       "</table>\n",
       "</div>"
      ],
      "text/plain": [
       "       Product        Age Gender  Education Marital status      Usage  \\\n",
       "count       95  95.000000     95  95.000000             95  95.000000   \n",
       "unique       3        NaN      2        NaN              2        NaN   \n",
       "top      TM195        NaN   Male        NaN      Partnered        NaN   \n",
       "freq        42        NaN     52        NaN             56        NaN   \n",
       "mean       NaN  30.126316    NaN  16.936842            NaN   3.378947   \n",
       "std        NaN  10.592292    NaN   4.239657            NaN   1.264734   \n",
       "min        NaN  18.000000    NaN  11.000000            NaN   1.000000   \n",
       "25%        NaN  20.000000    NaN  14.000000            NaN   2.000000   \n",
       "50%        NaN  28.000000    NaN  15.000000            NaN   3.000000   \n",
       "75%        NaN  39.000000    NaN  19.000000            NaN   4.000000   \n",
       "max        NaN  50.000000    NaN  32.000000            NaN   8.000000   \n",
       "\n",
       "          Fitness        Income       Miles  \n",
       "count   95.000000     95.000000   95.000000  \n",
       "unique        NaN           NaN         NaN  \n",
       "top           NaN           NaN         NaN  \n",
       "freq          NaN           NaN         NaN  \n",
       "mean     3.726316  35057.852632   59.663158  \n",
       "std      1.439874  13123.995551   27.562930  \n",
       "min      2.000000   8062.000000   15.000000  \n",
       "25%      3.000000  29062.000000   41.000000  \n",
       "50%      3.000000  31973.000000   53.000000  \n",
       "75%      4.000000  37668.500000   80.500000  \n",
       "max      8.000000  82973.000000  123.000000  "
      ]
     },
     "execution_count": 63,
     "metadata": {},
     "output_type": "execute_result"
    }
   ],
   "source": [
    "mydata.describe(include = \"all\")\n",
    "#data description\n",
    "#Gives you an idea of what value to use in what situation."
   ]
  },
  {
   "cell_type": "code",
   "execution_count": 64,
   "metadata": {},
   "outputs": [
    {
     "name": "stdout",
     "output_type": "stream",
     "text": [
      "<class 'pandas.core.frame.DataFrame'>\n",
      "RangeIndex: 95 entries, 0 to 94\n",
      "Data columns (total 9 columns):\n",
      " #   Column          Non-Null Count  Dtype \n",
      "---  ------          --------------  ----- \n",
      " 0   Product         95 non-null     object\n",
      " 1   Age             95 non-null     int64 \n",
      " 2   Gender          95 non-null     object\n",
      " 3   Education       95 non-null     int64 \n",
      " 4   Marital status  95 non-null     object\n",
      " 5   Usage           95 non-null     int64 \n",
      " 6   Fitness         95 non-null     int64 \n",
      " 7   Income          95 non-null     int64 \n",
      " 8   Miles           95 non-null     int64 \n",
      "dtypes: int64(6), object(3)\n",
      "memory usage: 6.8+ KB\n"
     ]
    }
   ],
   "source": [
    " mydata.info()\n",
    "#tells you about the data\n",
    "#summary of the data that is their in the dataface"
   ]
  },
  {
   "cell_type": "code",
   "execution_count": 65,
   "metadata": {},
   "outputs": [
    {
     "data": {
      "text/plain": [
       "array([[<matplotlib.axes._subplots.AxesSubplot object at 0x000002A76270C988>,\n",
       "        <matplotlib.axes._subplots.AxesSubplot object at 0x000002A7633F50C8>],\n",
       "       [<matplotlib.axes._subplots.AxesSubplot object at 0x000002A763431048>,\n",
       "        <matplotlib.axes._subplots.AxesSubplot object at 0x000002A763469148>],\n",
       "       [<matplotlib.axes._subplots.AxesSubplot object at 0x000002A7634A0288>,\n",
       "        <matplotlib.axes._subplots.AxesSubplot object at 0x000002A7634D6308>]],\n",
       "      dtype=object)"
      ]
     },
     "execution_count": 65,
     "metadata": {},
     "output_type": "execute_result"
    },
    {
     "data": {
      "image/png": "[encoded data removed]",
      "text/plain": [
       "<Figure size 1440x2160 with 6 Axes>"
      ]
     },
     "metadata": {
      "needs_background": "light"
     },
     "output_type": "display_data"
    }
   ],
   "source": [
    "import matplotlib.pyplot as plt\n",
    "\n",
    "mydata.hist(figsize = (20,30))"
   ]
  },
  {
   "cell_type": "code",
   "execution_count": 66,
   "metadata": {},
   "outputs": [
    {
     "data": {
      "text/plain": [
       "<matplotlib.axes._subplots.AxesSubplot at 0x2a766582d48>"
      ]
     },
     "execution_count": 66,
     "metadata": {},
     "output_type": "execute_result"
    },
    {
     "data": {
      "image/png": "[encoded data removed]",
      "text/plain": [
       "<Figure size 432x288 with 1 Axes>"
      ]
     },
     "metadata": {
      "needs_background": "light"
     },
     "output_type": "display_data"
    }
   ],
   "source": [
    "import seaborn as sns\n",
    "sns.boxplot(x = \"Gender\", y = \"Age\", data = mydata)\n",
    "\n",
    "#Length of the whisker is 1.5x the IQR\n",
    "#The top of the whisker is the maximum,the bottom of the whisker is minimum\n",
    "#An outlier(dots...) is a point that lies more than 1.5x the IQR above the box\n",
    "#If you see no other points then your 5point summary is sitting there\n",
    "#The whisker will not extend indefinitely it will go 1.5x the box and then stop.And if any points are left outside the box it will show them as dots\n",
    "#The middle line is the median, the upper part is the UQR and the lower part is the LQR"
   ]
  },
  {
   "cell_type": "code",
   "execution_count": 67,
   "metadata": {},
   "outputs": [],
   "source": [
    "#pd.crossstabulation(mydata['Product'],mydata['Gender'])\n",
    "#Crosstab(crosstabulation)- used for categorical data(variables)\n"
   ]
  },
  {
   "cell_type": "code",
   "execution_count": 68,
   "metadata": {},
   "outputs": [
    {
     "data": {
      "text/html": [
       "<div>\n",
       "<style scoped>\n",
       "    .dataframe tbody tr th:only-of-type {\n",
       "        vertical-align: middle;\n",
       "    }\n",
       "\n",
       "    .dataframe tbody tr th {\n",
       "        vertical-align: top;\n",
       "    }\n",
       "\n",
       "    .dataframe thead th {\n",
       "        text-align: right;\n",
       "    }\n",
       "</style>\n",
       "<table border=\"1\" class=\"dataframe\">\n",
       "  <thead>\n",
       "    <tr style=\"text-align: right;\">\n",
       "      <th>Gender</th>\n",
       "      <th>Female</th>\n",
       "      <th>Male</th>\n",
       "    </tr>\n",
       "    <tr>\n",
       "      <th>Product</th>\n",
       "      <th></th>\n",
       "      <th></th>\n",
       "    </tr>\n",
       "  </thead>\n",
       "  <tbody>\n",
       "    <tr>\n",
       "      <th>TM195</th>\n",
       "      <td>16</td>\n",
       "      <td>26</td>\n",
       "    </tr>\n",
       "    <tr>\n",
       "      <th>TM498</th>\n",
       "      <td>15</td>\n",
       "      <td>14</td>\n",
       "    </tr>\n",
       "    <tr>\n",
       "      <th>TMT98</th>\n",
       "      <td>12</td>\n",
       "      <td>12</td>\n",
       "    </tr>\n",
       "  </tbody>\n",
       "</table>\n",
       "</div>"
      ],
      "text/plain": [
       "Gender   Female  Male\n",
       "Product              \n",
       "TM195        16    26\n",
       "TM498        15    14\n",
       "TMT98        12    12"
      ]
     },
     "execution_count": 68,
     "metadata": {},
     "output_type": "execute_result"
    }
   ],
   "source": [
    "pd.crosstab(mydata[\"Product\"],mydata[\"Gender\"])"
   ]
  },
  {
   "cell_type": "code",
   "execution_count": 69,
   "metadata": {},
   "outputs": [
    {
     "data": {
      "text/html": [
       "<div>\n",
       "<style scoped>\n",
       "    .dataframe tbody tr th:only-of-type {\n",
       "        vertical-align: middle;\n",
       "    }\n",
       "\n",
       "    .dataframe tbody tr th {\n",
       "        vertical-align: top;\n",
       "    }\n",
       "\n",
       "    .dataframe thead th {\n",
       "        text-align: right;\n",
       "    }\n",
       "</style>\n",
       "<table border=\"1\" class=\"dataframe\">\n",
       "  <thead>\n",
       "    <tr style=\"text-align: right;\">\n",
       "      <th>Marital status</th>\n",
       "      <th>Partnered</th>\n",
       "      <th>Single</th>\n",
       "    </tr>\n",
       "    <tr>\n",
       "      <th>Product</th>\n",
       "      <th></th>\n",
       "      <th></th>\n",
       "    </tr>\n",
       "  </thead>\n",
       "  <tbody>\n",
       "    <tr>\n",
       "      <th>TM195</th>\n",
       "      <td>23</td>\n",
       "      <td>19</td>\n",
       "    </tr>\n",
       "    <tr>\n",
       "      <th>TM498</th>\n",
       "      <td>17</td>\n",
       "      <td>12</td>\n",
       "    </tr>\n",
       "    <tr>\n",
       "      <th>TMT98</th>\n",
       "      <td>16</td>\n",
       "      <td>8</td>\n",
       "    </tr>\n",
       "  </tbody>\n",
       "</table>\n",
       "</div>"
      ],
      "text/plain": [
       "Marital status  Partnered  Single\n",
       "Product                          \n",
       "TM195                  23      19\n",
       "TM498                  17      12\n",
       "TMT98                  16       8"
      ]
     },
     "execution_count": 69,
     "metadata": {},
     "output_type": "execute_result"
    }
   ],
   "source": [
    "pd.crosstab(mydata[\"Product\"],mydata[\"Marital status\"])"
   ]
  },
  {
   "cell_type": "code",
   "execution_count": 70,
   "metadata": {},
   "outputs": [
    {
     "data": {
      "text/plain": [
       "<matplotlib.axes._subplots.AxesSubplot at 0x2a76670dc88>"
      ]
     },
     "execution_count": 70,
     "metadata": {},
     "output_type": "execute_result"
    },
    {
     "data": {
      "image/png": "[encoded data removed]",
      "text/plain": [
       "<Figure size 432x288 with 1 Axes>"
      ]
     },
     "metadata": {
      "needs_background": "light"
     },
     "output_type": "display_data"
    }
   ],
   "source": [
    "sns.countplot(x = \"Product\", hue = \"Gender\", data = mydata )"
   ]
  },
  {
   "cell_type": "code",
   "execution_count": 71,
   "metadata": {},
   "outputs": [
    {
     "data": {
      "text/html": [
       "<div>\n",
       "<style scoped>\n",
       "    .dataframe tbody tr th:only-of-type {\n",
       "        vertical-align: middle;\n",
       "    }\n",
       "\n",
       "    .dataframe tbody tr th {\n",
       "        vertical-align: top;\n",
       "    }\n",
       "\n",
       "    .dataframe thead tr th {\n",
       "        text-align: left;\n",
       "    }\n",
       "\n",
       "    .dataframe thead tr:last-of-type th {\n",
       "        text-align: right;\n",
       "    }\n",
       "</style>\n",
       "<table border=\"1\" class=\"dataframe\">\n",
       "  <thead>\n",
       "    <tr>\n",
       "      <th></th>\n",
       "      <th></th>\n",
       "      <th colspan=\"2\" halign=\"left\">Age</th>\n",
       "      <th colspan=\"2\" halign=\"left\">Education</th>\n",
       "      <th colspan=\"2\" halign=\"left\">Fitness</th>\n",
       "      <th colspan=\"2\" halign=\"left\">Income</th>\n",
       "      <th colspan=\"2\" halign=\"left\">Miles</th>\n",
       "      <th colspan=\"2\" halign=\"left\">Usage</th>\n",
       "    </tr>\n",
       "    <tr>\n",
       "      <th></th>\n",
       "      <th>Marital status</th>\n",
       "      <th>Partnered</th>\n",
       "      <th>Single</th>\n",
       "      <th>Partnered</th>\n",
       "      <th>Single</th>\n",
       "      <th>Partnered</th>\n",
       "      <th>Single</th>\n",
       "      <th>Partnered</th>\n",
       "      <th>Single</th>\n",
       "      <th>Partnered</th>\n",
       "      <th>Single</th>\n",
       "      <th>Partnered</th>\n",
       "      <th>Single</th>\n",
       "    </tr>\n",
       "    <tr>\n",
       "      <th>Product</th>\n",
       "      <th>Gender</th>\n",
       "      <th></th>\n",
       "      <th></th>\n",
       "      <th></th>\n",
       "      <th></th>\n",
       "      <th></th>\n",
       "      <th></th>\n",
       "      <th></th>\n",
       "      <th></th>\n",
       "      <th></th>\n",
       "      <th></th>\n",
       "      <th></th>\n",
       "      <th></th>\n",
       "    </tr>\n",
       "  </thead>\n",
       "  <tbody>\n",
       "    <tr>\n",
       "      <th rowspan=\"2\" valign=\"top\">TM195</th>\n",
       "      <th>Female</th>\n",
       "      <td>12.0</td>\n",
       "      <td>4.0</td>\n",
       "      <td>12.0</td>\n",
       "      <td>4.0</td>\n",
       "      <td>12.0</td>\n",
       "      <td>4.0</td>\n",
       "      <td>12.0</td>\n",
       "      <td>4.0</td>\n",
       "      <td>12.0</td>\n",
       "      <td>4.0</td>\n",
       "      <td>12.0</td>\n",
       "      <td>4.0</td>\n",
       "    </tr>\n",
       "    <tr>\n",
       "      <th>Male</th>\n",
       "      <td>11.0</td>\n",
       "      <td>15.0</td>\n",
       "      <td>11.0</td>\n",
       "      <td>15.0</td>\n",
       "      <td>11.0</td>\n",
       "      <td>15.0</td>\n",
       "      <td>11.0</td>\n",
       "      <td>15.0</td>\n",
       "      <td>11.0</td>\n",
       "      <td>15.0</td>\n",
       "      <td>11.0</td>\n",
       "      <td>15.0</td>\n",
       "    </tr>\n",
       "    <tr>\n",
       "      <th rowspan=\"2\" valign=\"top\">TM498</th>\n",
       "      <th>Female</th>\n",
       "      <td>12.0</td>\n",
       "      <td>3.0</td>\n",
       "      <td>12.0</td>\n",
       "      <td>3.0</td>\n",
       "      <td>12.0</td>\n",
       "      <td>3.0</td>\n",
       "      <td>12.0</td>\n",
       "      <td>3.0</td>\n",
       "      <td>12.0</td>\n",
       "      <td>3.0</td>\n",
       "      <td>12.0</td>\n",
       "      <td>3.0</td>\n",
       "    </tr>\n",
       "    <tr>\n",
       "      <th>Male</th>\n",
       "      <td>5.0</td>\n",
       "      <td>9.0</td>\n",
       "      <td>5.0</td>\n",
       "      <td>9.0</td>\n",
       "      <td>5.0</td>\n",
       "      <td>9.0</td>\n",
       "      <td>5.0</td>\n",
       "      <td>9.0</td>\n",
       "      <td>5.0</td>\n",
       "      <td>9.0</td>\n",
       "      <td>5.0</td>\n",
       "      <td>9.0</td>\n",
       "    </tr>\n",
       "    <tr>\n",
       "      <th rowspan=\"2\" valign=\"top\">TMT98</th>\n",
       "      <th>Female</th>\n",
       "      <td>12.0</td>\n",
       "      <td>NaN</td>\n",
       "      <td>12.0</td>\n",
       "      <td>NaN</td>\n",
       "      <td>12.0</td>\n",
       "      <td>NaN</td>\n",
       "      <td>12.0</td>\n",
       "      <td>NaN</td>\n",
       "      <td>12.0</td>\n",
       "      <td>NaN</td>\n",
       "      <td>12.0</td>\n",
       "      <td>NaN</td>\n",
       "    </tr>\n",
       "    <tr>\n",
       "      <th>Male</th>\n",
       "      <td>4.0</td>\n",
       "      <td>8.0</td>\n",
       "      <td>4.0</td>\n",
       "      <td>8.0</td>\n",
       "      <td>4.0</td>\n",
       "      <td>8.0</td>\n",
       "      <td>4.0</td>\n",
       "      <td>8.0</td>\n",
       "      <td>4.0</td>\n",
       "      <td>8.0</td>\n",
       "      <td>4.0</td>\n",
       "      <td>8.0</td>\n",
       "    </tr>\n",
       "  </tbody>\n",
       "</table>\n",
       "</div>"
      ],
      "text/plain": [
       "                     Age        Education          Fitness           Income  \\\n",
       "Marital status Partnered Single Partnered Single Partnered Single Partnered   \n",
       "Product Gender                                                                \n",
       "TM195   Female      12.0    4.0      12.0    4.0      12.0    4.0      12.0   \n",
       "        Male        11.0   15.0      11.0   15.0      11.0   15.0      11.0   \n",
       "TM498   Female      12.0    3.0      12.0    3.0      12.0    3.0      12.0   \n",
       "        Male         5.0    9.0       5.0    9.0       5.0    9.0       5.0   \n",
       "TMT98   Female      12.0    NaN      12.0    NaN      12.0    NaN      12.0   \n",
       "        Male         4.0    8.0       4.0    8.0       4.0    8.0       4.0   \n",
       "\n",
       "                          Miles            Usage         \n",
       "Marital status Single Partnered Single Partnered Single  \n",
       "Product Gender                                           \n",
       "TM195   Female    4.0      12.0    4.0      12.0    4.0  \n",
       "        Male     15.0      11.0   15.0      11.0   15.0  \n",
       "TM498   Female    3.0      12.0    3.0      12.0    3.0  \n",
       "        Male      9.0       5.0    9.0       5.0    9.0  \n",
       "TMT98   Female    NaN      12.0    NaN      12.0    NaN  \n",
       "        Male      8.0       4.0    8.0       4.0    8.0  "
      ]
     },
     "execution_count": 71,
     "metadata": {},
     "output_type": "execute_result"
    }
   ],
   "source": [
    "pd.pivot_table(mydata, index = [\"Product\", \"Gender\"], columns = [\"Marital status\"], aggfunc = len)\n",
    "#data can be divided to as numerical and categorical\n",
    "  #                                           |\n",
    "  #                                         norminal-name\n",
    "  #                                         ordinal-sense of order(satisfied and very satisfied)"
   ]
  },
  {
   "cell_type": "code",
   "execution_count": 72,
   "metadata": {},
   "outputs": [
    {
     "data": {
      "text/plain": [
       "<seaborn.axisgrid.PairGrid at 0x2a76676a9c8>"
      ]
     },
     "execution_count": 72,
     "metadata": {},
     "output_type": "execute_result"
    },
    {
     "data": {
      "image/png": "[encoded data removed]",
      "text/plain": [
       "<Figure size 1080x1080 with 42 Axes>"
      ]
     },
     "metadata": {
      "needs_background": "light"
     },
     "output_type": "display_data"
    }
   ],
   "source": [
    "sns.pairplot(mydata)\n",
    "#Univariate- looking at it one by one (bit by bit)\n",
    "#Pairplot - very lazy plot.\n",
    "#The diagonal part forms its data against itself(e.g- age vs age)so it just draws a histogram for age"
   ]
  },
  {
   "cell_type": "markdown",
   "metadata": {},
   "source": [
    "# Reinforcement learning"
   ]
  },
  {
   "cell_type": "markdown",
   "metadata": {},
   "source": [
    "## Teach dog new tricks\n",
    "\n",
    "### How Reinforcement learning works in a broader sense:\n",
    "\n",
    "##### .Your dog is an \"agent\" that is exposed to the environment. The environment could be in your house with you.\n",
    "\n",
    "##### .The situations they encounter are analogous to a state.An example of a state could be your dog standing and you use a specific word in a certain tone in your living room.\n",
    "\n",
    "##### .Our agents react by performing an action to transition from one \"state\" to another \"state\", your dog goes from standing to sitting, for example.\n",
    "\n",
    "##### .After the transition they may receive a reward or penalty in return. You give them a treat! or a \"No\" as a penalty.\n",
    "\n",
    "##### .The policy is the strategy of choosing an action given a state in expectation of better outcomes."
   ]
  },
  {
   "cell_type": "code",
   "execution_count": 73,
   "metadata": {},
   "outputs": [],
   "source": [
    "#RL Areas\n",
    "#Engineering:Optimum control- Aerospace applications,communication engineers\n",
    "#Mathematics:Operations research-e.g. hospitals requiring blood,..what is the optimal way this blood can be sold.(supply chain)\n",
    "#Economics:Utility theory,game theory\n",
    "#Neuroscience:Medical applications-The human brain has a remarkable ability for adapting to environmental changes\n",
    "#State aggregation-how to aggregate a particular information and put it as a state.(empirically produced and theoritically prove it)"
   ]
  },
  {
   "cell_type": "markdown",
   "metadata": {},
   "source": [
    "# Main components in RL process: Rewards\n",
    "\n",
    "## Examples\n",
    "\n",
    "#### 1. A dog receives a reward from a trainer for completing a certain task and no reward for failing to do so.\n",
    "\n",
    "#### 2 . Fly stunt manoeuvres in a helicopter\n",
    "#####     .+ve reward for following desired trajectory \n",
    "#####     .-ve reward for crashing\n",
    "\n",
    "#### 3.Defeat the world champion in backgammon\n",
    "#####   .+/-ve for winning /losing the game\n",
    "\n",
    "#### 4 .Manage an investment portfolio\n",
    "#####   . +ve reward for each $ in bank\n",
    "\n",
    "#### 5.Control a power station\n",
    "#####    . +ve reward for producing power\n",
    "#####    .-ve reward for exceeding safety thresholds\n",
    "#### 6.Make a humanoid robot walk\n",
    "#####    .+ve reward for forward motion\n",
    "#####    .-ve reward for falling over\n",
    "#### 7.Play many dierent Atari games better than humans\n",
    "#####    .+/-ve reward for increasing /decreasing score"
   ]
  },
  {
   "cell_type": "markdown",
   "metadata": {},
   "source": [
    "# Main components in RL Agent:Model\n",
    " \n",
    "### It is the agent's representation of the environment.It helps to learn about the environment nd then figure out a plan for what to do next.It can be divided into two states:\n",
    "## .Transition:-\n",
    "### It predicts the next state.eg., given the dynamics such as the velocity,position of an object what will the environment do next.\n",
    "###                    P\n",
    "### This equation tells us the probability of being in the next state, S' given the currrent state, s and action, a.\n",
    "   ## .Reward:-\n",
    "### It predicts the immediate reward. Or how much reward will the object get following an action.\n",
    "###                    R\n",
    "### This equation tells us the expected reward, R we wiil get the current state, s and action, a.    \n",
    "    "
   ]
  },
  {
   "cell_type": "code",
   "execution_count": null,
   "metadata": {},
   "outputs": [],
   "source": []
  }
 ],
 "metadata": {
  "kernelspec": {
   "display_name": "Python 3",
   "language": "python",
   "name": "python3"
  },
  "language_info": {
   "codemirror_mode": {
    "name": "ipython",
    "version": 3
   },
   "file_extension": ".py",
   "mimetype": "text/x-python",
   "name": "python",
   "nbconvert_exporter": "python",
   "pygments_lexer": "ipython3",
   "version": "3.7.6"
  }
 },
 "nbformat": 4,
 "nbformat_minor": 4
}
